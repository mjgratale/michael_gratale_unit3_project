{
 "cells": [
  {
   "cell_type": "markdown",
   "metadata": {},
   "source": [
    "<img src=\"http://imgur.com/1ZcRyrc.png\" style=\"float: left; margin: 20px; height: 55px\">\n",
    "\n",
    "# Project 3: Linear Regression and KNN - Train/Test Split\n",
    "\n",
    "---"
   ]
  },
  {
   "cell_type": "markdown",
   "metadata": {},
   "source": [
    "# Introduction\n",
    "\n",
    "To evaluate how our models would perform on new data, we split our data into a training set and a test set, train only on the training set, and evaluate on the test set. In $k$-fold cross validation we repeat this process $k$ times, using a different subset of our data as the test set each time.\n",
    "\n",
    "We use this process to compare multiple models on the same data set. Those models could be variations on a single type (e.g. linear regression models with and without a particular feature), or they could be of completely different types."
   ]
  },
  {
   "cell_type": "markdown",
   "metadata": {},
   "source": [
    "Recall that k-fold cross-validation creates a hold portion of your data set for each iteration of training and validating:\n",
    "\n",
    "![](http://i.imgur.com/0PFrPXJ.png)"
   ]
  },
  {
   "cell_type": "markdown",
   "metadata": {},
   "source": [
    "## Linear Regression Practice\n",
    "\n",
    "In this given task, you will be asked to model the median home price of various houses across U.S. Census tracts in the city of Boston."
   ]
  },
  {
   "cell_type": "code",
   "execution_count": 76,
   "metadata": {
    "collapsed": true
   },
   "outputs": [],
   "source": [
    "import matplotlib.pyplot as plt\n",
    "\n",
    "% matplotlib inline"
   ]
  },
  {
   "cell_type": "code",
   "execution_count": 77,
   "metadata": {},
   "outputs": [
    {
     "name": "stdout",
     "output_type": "stream",
     "text": [
      "Boston House Prices dataset\n",
      "===========================\n",
      "\n",
      "Notes\n",
      "------\n",
      "Data Set Characteristics:  \n",
      "\n",
      "    :Number of Instances: 506 \n",
      "\n",
      "    :Number of Attributes: 13 numeric/categorical predictive\n",
      "    \n",
      "    :Median Value (attribute 14) is usually the target\n",
      "\n",
      "    :Attribute Information (in order):\n",
      "        - CRIM     per capita crime rate by town\n",
      "        - ZN       proportion of residential land zoned for lots over 25,000 sq.ft.\n",
      "        - INDUS    proportion of non-retail business acres per town\n",
      "        - CHAS     Charles River dummy variable (= 1 if tract bounds river; 0 otherwise)\n",
      "        - NOX      nitric oxides concentration (parts per 10 million)\n",
      "        - RM       average number of rooms per dwelling\n",
      "        - AGE      proportion of owner-occupied units built prior to 1940\n",
      "        - DIS      weighted distances to five Boston employment centres\n",
      "        - RAD      index of accessibility to radial highways\n",
      "        - TAX      full-value property-tax rate per $10,000\n",
      "        - PTRATIO  pupil-teacher ratio by town\n",
      "        - B        1000(Bk - 0.63)^2 where Bk is the proportion of blacks by town\n",
      "        - LSTAT    % lower status of the population\n",
      "        - MEDV     Median value of owner-occupied homes in $1000's\n",
      "\n",
      "    :Missing Attribute Values: None\n",
      "\n",
      "    :Creator: Harrison, D. and Rubinfeld, D.L.\n",
      "\n",
      "This is a copy of UCI ML housing dataset.\n",
      "http://archive.ics.uci.edu/ml/datasets/Housing\n",
      "\n",
      "\n",
      "This dataset was taken from the StatLib library which is maintained at Carnegie Mellon University.\n",
      "\n",
      "The Boston house-price data of Harrison, D. and Rubinfeld, D.L. 'Hedonic\n",
      "prices and the demand for clean air', J. Environ. Economics & Management,\n",
      "vol.5, 81-102, 1978.   Used in Belsley, Kuh & Welsch, 'Regression diagnostics\n",
      "...', Wiley, 1980.   N.B. Various transformations are used in the table on\n",
      "pages 244-261 of the latter.\n",
      "\n",
      "The Boston house-price data has been used in many machine learning papers that address regression\n",
      "problems.   \n",
      "     \n",
      "**References**\n",
      "\n",
      "   - Belsley, Kuh & Welsch, 'Regression diagnostics: Identifying Influential Data and Sources of Collinearity', Wiley, 1980. 244-261.\n",
      "   - Quinlan,R. (1993). Combining Instance-Based and Model-Based Learning. In Proceedings on the Tenth International Conference of Machine Learning, 236-243, University of Massachusetts, Amherst. Morgan Kaufmann.\n",
      "   - many more! (see http://archive.ics.uci.edu/ml/datasets/Housing)\n",
      "\n"
     ]
    }
   ],
   "source": [
    "import pandas as pd\n",
    "import numpy as np\n",
    "from sklearn.datasets import load_boston\n",
    "\n",
    "boston = load_boston()\n",
    "\n",
    "X = pd.DataFrame(boston.data,\n",
    "                 columns=boston.feature_names)\n",
    "y = pd.DataFrame(boston.target,\n",
    "                 columns=['MEDV'])\n",
    "\n",
    "print(boston['DESCR'])"
   ]
  },
  {
   "cell_type": "markdown",
   "metadata": {},
   "source": [
    "- Clean Up Data and Perform Exporatory Data Analysis"
   ]
  },
  {
   "cell_type": "markdown",
   "metadata": {},
   "source": [
    "Boston data is from scikit-learn, so it ought to be pretty clean, but we should always perform exploratory data analysis."
   ]
  },
  {
   "cell_type": "markdown",
   "metadata": {},
   "source": [
    "**Items to include:**\n",
    "\n",
    "- Data shape\n",
    "- Data types\n",
    "- Count of null values by column\n",
    "- Basic summary statistics\n",
    "- Number of unique values for each column\n",
    "- Plot of the distribution of each column (e.g. histogram, bar plot, or box plot)\n",
    "- Scatterplot of each column with median price"
   ]
  },
  {
   "cell_type": "code",
   "execution_count": 78,
   "metadata": {},
   "outputs": [],
   "source": [
    "from pathlib import Path\n",
    "\n",
    "import matplotlib.pyplot as plt\n",
    "import numpy as np\n",
    "import seaborn as sns\n",
    "import pandas as pd\n",
    "\n",
    "from sklearn import metrics"
   ]
  },
  {
   "cell_type": "code",
   "execution_count": 79,
   "metadata": {},
   "outputs": [],
   "source": [
    "boston_path = Path('..', 'unit3_project-master', 'data', 'boston_data.csv')\n",
    "boston = pd.read_csv(boston_path)"
   ]
  },
  {
   "cell_type": "code",
   "execution_count": 80,
   "metadata": {},
   "outputs": [
    {
     "data": {
      "text/plain": [
       "(506, 15)"
      ]
     },
     "execution_count": 80,
     "metadata": {},
     "output_type": "execute_result"
    }
   ],
   "source": [
    "boston.shape #shape of data"
   ]
  },
  {
   "cell_type": "code",
   "execution_count": 81,
   "metadata": {},
   "outputs": [
    {
     "data": {
      "text/plain": [
       "Unnamed: 0      int64\n",
       "CRIM          float64\n",
       "ZN            float64\n",
       "INDUS         float64\n",
       "CHAS          float64\n",
       "NOX           float64\n",
       "RM            float64\n",
       "AGE           float64\n",
       "DIS           float64\n",
       "RAD           float64\n",
       "TAX           float64\n",
       "PTRATIO       float64\n",
       "B             float64\n",
       "LSTAT         float64\n",
       "MEDV          float64\n",
       "dtype: object"
      ]
     },
     "execution_count": 81,
     "metadata": {},
     "output_type": "execute_result"
    }
   ],
   "source": [
    "boston.dtypes # data types"
   ]
  },
  {
   "cell_type": "code",
   "execution_count": 82,
   "metadata": {},
   "outputs": [
    {
     "data": {
      "text/plain": [
       "Unnamed: 0    0\n",
       "CRIM          0\n",
       "ZN            0\n",
       "INDUS         0\n",
       "CHAS          0\n",
       "NOX           0\n",
       "RM            0\n",
       "AGE           0\n",
       "DIS           0\n",
       "RAD           0\n",
       "TAX           0\n",
       "PTRATIO       0\n",
       "B             0\n",
       "LSTAT         0\n",
       "MEDV          0\n",
       "dtype: int64"
      ]
     },
     "execution_count": 82,
     "metadata": {},
     "output_type": "execute_result"
    }
   ],
   "source": [
    "boston.isnull().sum()    #sum of null values"
   ]
  },
  {
   "cell_type": "code",
   "execution_count": 83,
   "metadata": {},
   "outputs": [
    {
     "data": {
      "text/html": [
       "<div>\n",
       "<style scoped>\n",
       "    .dataframe tbody tr th:only-of-type {\n",
       "        vertical-align: middle;\n",
       "    }\n",
       "\n",
       "    .dataframe tbody tr th {\n",
       "        vertical-align: top;\n",
       "    }\n",
       "\n",
       "    .dataframe thead th {\n",
       "        text-align: right;\n",
       "    }\n",
       "</style>\n",
       "<table border=\"1\" class=\"dataframe\">\n",
       "  <thead>\n",
       "    <tr style=\"text-align: right;\">\n",
       "      <th></th>\n",
       "      <th>Unnamed: 0</th>\n",
       "      <th>CRIM</th>\n",
       "      <th>ZN</th>\n",
       "      <th>INDUS</th>\n",
       "      <th>CHAS</th>\n",
       "      <th>NOX</th>\n",
       "      <th>RM</th>\n",
       "      <th>AGE</th>\n",
       "      <th>DIS</th>\n",
       "      <th>RAD</th>\n",
       "      <th>TAX</th>\n",
       "      <th>PTRATIO</th>\n",
       "      <th>B</th>\n",
       "      <th>LSTAT</th>\n",
       "      <th>MEDV</th>\n",
       "    </tr>\n",
       "  </thead>\n",
       "  <tbody>\n",
       "    <tr>\n",
       "      <th>count</th>\n",
       "      <td>506.000000</td>\n",
       "      <td>506.000000</td>\n",
       "      <td>506.000000</td>\n",
       "      <td>506.000000</td>\n",
       "      <td>506.000000</td>\n",
       "      <td>506.000000</td>\n",
       "      <td>506.000000</td>\n",
       "      <td>506.000000</td>\n",
       "      <td>506.000000</td>\n",
       "      <td>506.000000</td>\n",
       "      <td>506.000000</td>\n",
       "      <td>506.000000</td>\n",
       "      <td>506.000000</td>\n",
       "      <td>506.000000</td>\n",
       "      <td>506.000000</td>\n",
       "    </tr>\n",
       "    <tr>\n",
       "      <th>mean</th>\n",
       "      <td>252.500000</td>\n",
       "      <td>3.593761</td>\n",
       "      <td>11.363636</td>\n",
       "      <td>11.136779</td>\n",
       "      <td>0.069170</td>\n",
       "      <td>0.554695</td>\n",
       "      <td>6.284634</td>\n",
       "      <td>68.574901</td>\n",
       "      <td>3.795043</td>\n",
       "      <td>9.549407</td>\n",
       "      <td>408.237154</td>\n",
       "      <td>18.455534</td>\n",
       "      <td>356.674032</td>\n",
       "      <td>12.653063</td>\n",
       "      <td>22.532806</td>\n",
       "    </tr>\n",
       "    <tr>\n",
       "      <th>std</th>\n",
       "      <td>146.213884</td>\n",
       "      <td>8.596783</td>\n",
       "      <td>23.322453</td>\n",
       "      <td>6.860353</td>\n",
       "      <td>0.253994</td>\n",
       "      <td>0.115878</td>\n",
       "      <td>0.702617</td>\n",
       "      <td>28.148861</td>\n",
       "      <td>2.105710</td>\n",
       "      <td>8.707259</td>\n",
       "      <td>168.537116</td>\n",
       "      <td>2.164946</td>\n",
       "      <td>91.294864</td>\n",
       "      <td>7.141062</td>\n",
       "      <td>9.197104</td>\n",
       "    </tr>\n",
       "    <tr>\n",
       "      <th>min</th>\n",
       "      <td>0.000000</td>\n",
       "      <td>0.006320</td>\n",
       "      <td>0.000000</td>\n",
       "      <td>0.460000</td>\n",
       "      <td>0.000000</td>\n",
       "      <td>0.385000</td>\n",
       "      <td>3.561000</td>\n",
       "      <td>2.900000</td>\n",
       "      <td>1.129600</td>\n",
       "      <td>1.000000</td>\n",
       "      <td>187.000000</td>\n",
       "      <td>12.600000</td>\n",
       "      <td>0.320000</td>\n",
       "      <td>1.730000</td>\n",
       "      <td>5.000000</td>\n",
       "    </tr>\n",
       "    <tr>\n",
       "      <th>25%</th>\n",
       "      <td>126.250000</td>\n",
       "      <td>0.082045</td>\n",
       "      <td>0.000000</td>\n",
       "      <td>5.190000</td>\n",
       "      <td>0.000000</td>\n",
       "      <td>0.449000</td>\n",
       "      <td>5.885500</td>\n",
       "      <td>45.025000</td>\n",
       "      <td>2.100175</td>\n",
       "      <td>4.000000</td>\n",
       "      <td>279.000000</td>\n",
       "      <td>17.400000</td>\n",
       "      <td>375.377500</td>\n",
       "      <td>6.950000</td>\n",
       "      <td>17.025000</td>\n",
       "    </tr>\n",
       "    <tr>\n",
       "      <th>50%</th>\n",
       "      <td>252.500000</td>\n",
       "      <td>0.256510</td>\n",
       "      <td>0.000000</td>\n",
       "      <td>9.690000</td>\n",
       "      <td>0.000000</td>\n",
       "      <td>0.538000</td>\n",
       "      <td>6.208500</td>\n",
       "      <td>77.500000</td>\n",
       "      <td>3.207450</td>\n",
       "      <td>5.000000</td>\n",
       "      <td>330.000000</td>\n",
       "      <td>19.050000</td>\n",
       "      <td>391.440000</td>\n",
       "      <td>11.360000</td>\n",
       "      <td>21.200000</td>\n",
       "    </tr>\n",
       "    <tr>\n",
       "      <th>75%</th>\n",
       "      <td>378.750000</td>\n",
       "      <td>3.647422</td>\n",
       "      <td>12.500000</td>\n",
       "      <td>18.100000</td>\n",
       "      <td>0.000000</td>\n",
       "      <td>0.624000</td>\n",
       "      <td>6.623500</td>\n",
       "      <td>94.075000</td>\n",
       "      <td>5.188425</td>\n",
       "      <td>24.000000</td>\n",
       "      <td>666.000000</td>\n",
       "      <td>20.200000</td>\n",
       "      <td>396.225000</td>\n",
       "      <td>16.955000</td>\n",
       "      <td>25.000000</td>\n",
       "    </tr>\n",
       "    <tr>\n",
       "      <th>max</th>\n",
       "      <td>505.000000</td>\n",
       "      <td>88.976200</td>\n",
       "      <td>100.000000</td>\n",
       "      <td>27.740000</td>\n",
       "      <td>1.000000</td>\n",
       "      <td>0.871000</td>\n",
       "      <td>8.780000</td>\n",
       "      <td>100.000000</td>\n",
       "      <td>12.126500</td>\n",
       "      <td>24.000000</td>\n",
       "      <td>711.000000</td>\n",
       "      <td>22.000000</td>\n",
       "      <td>396.900000</td>\n",
       "      <td>37.970000</td>\n",
       "      <td>50.000000</td>\n",
       "    </tr>\n",
       "  </tbody>\n",
       "</table>\n",
       "</div>"
      ],
      "text/plain": [
       "       Unnamed: 0        CRIM          ZN       INDUS        CHAS         NOX  \\\n",
       "count  506.000000  506.000000  506.000000  506.000000  506.000000  506.000000   \n",
       "mean   252.500000    3.593761   11.363636   11.136779    0.069170    0.554695   \n",
       "std    146.213884    8.596783   23.322453    6.860353    0.253994    0.115878   \n",
       "min      0.000000    0.006320    0.000000    0.460000    0.000000    0.385000   \n",
       "25%    126.250000    0.082045    0.000000    5.190000    0.000000    0.449000   \n",
       "50%    252.500000    0.256510    0.000000    9.690000    0.000000    0.538000   \n",
       "75%    378.750000    3.647422   12.500000   18.100000    0.000000    0.624000   \n",
       "max    505.000000   88.976200  100.000000   27.740000    1.000000    0.871000   \n",
       "\n",
       "               RM         AGE         DIS         RAD         TAX     PTRATIO  \\\n",
       "count  506.000000  506.000000  506.000000  506.000000  506.000000  506.000000   \n",
       "mean     6.284634   68.574901    3.795043    9.549407  408.237154   18.455534   \n",
       "std      0.702617   28.148861    2.105710    8.707259  168.537116    2.164946   \n",
       "min      3.561000    2.900000    1.129600    1.000000  187.000000   12.600000   \n",
       "25%      5.885500   45.025000    2.100175    4.000000  279.000000   17.400000   \n",
       "50%      6.208500   77.500000    3.207450    5.000000  330.000000   19.050000   \n",
       "75%      6.623500   94.075000    5.188425   24.000000  666.000000   20.200000   \n",
       "max      8.780000  100.000000   12.126500   24.000000  711.000000   22.000000   \n",
       "\n",
       "                B       LSTAT        MEDV  \n",
       "count  506.000000  506.000000  506.000000  \n",
       "mean   356.674032   12.653063   22.532806  \n",
       "std     91.294864    7.141062    9.197104  \n",
       "min      0.320000    1.730000    5.000000  \n",
       "25%    375.377500    6.950000   17.025000  \n",
       "50%    391.440000   11.360000   21.200000  \n",
       "75%    396.225000   16.955000   25.000000  \n",
       "max    396.900000   37.970000   50.000000  "
      ]
     },
     "execution_count": 83,
     "metadata": {},
     "output_type": "execute_result"
    }
   ],
   "source": [
    "boston.describe() #summary statistics"
   ]
  },
  {
   "cell_type": "code",
   "execution_count": 84,
   "metadata": {},
   "outputs": [
    {
     "data": {
      "text/plain": [
       "Unnamed: 0    506\n",
       "CRIM          504\n",
       "ZN             26\n",
       "INDUS          76\n",
       "CHAS            2\n",
       "NOX            81\n",
       "RM            446\n",
       "AGE           356\n",
       "DIS           412\n",
       "RAD             9\n",
       "TAX            66\n",
       "PTRATIO        46\n",
       "B             357\n",
       "LSTAT         455\n",
       "MEDV          229\n",
       "dtype: int64"
      ]
     },
     "execution_count": 84,
     "metadata": {},
     "output_type": "execute_result"
    }
   ],
   "source": [
    "#count number of unique values\n",
    "boston.nunique()"
   ]
  },
  {
   "cell_type": "markdown",
   "metadata": {},
   "source": [
    "## Distribution of each column"
   ]
  },
  {
   "cell_type": "code",
   "execution_count": 85,
   "metadata": {},
   "outputs": [
    {
     "data": {
      "image/png": "[encoded data removed]",
      "text/plain": [
       "<Figure size 432x288 with 1 Axes>"
      ]
     },
     "metadata": {
      "needs_background": "light"
     },
     "output_type": "display_data"
    }
   ],
   "source": [
    "boston.loc[:,'CRIM'].hist();"
   ]
  },
  {
   "cell_type": "code",
   "execution_count": 86,
   "metadata": {},
   "outputs": [
    {
     "data": {
      "image/png": "[encoded data removed]",
      "text/plain": [
       "<Figure size 1008x720 with 16 Axes>"
      ]
     },
     "metadata": {
      "needs_background": "light"
     },
     "output_type": "display_data"
    }
   ],
   "source": [
    "axes = boston.hist(figsize= (14,10)) # plot distribution of each column"
   ]
  },
  {
   "cell_type": "markdown",
   "metadata": {},
   "source": [
    "# Scatter of each column with price"
   ]
  },
  {
   "cell_type": "code",
   "execution_count": 87,
   "metadata": {},
   "outputs": [
    {
     "data": {
      "image/png": "[encoded data removed]",
      "text/plain": [
       "<Figure size 432x288 with 1 Axes>"
      ]
     },
     "metadata": {
      "needs_background": "light"
     },
     "output_type": "display_data"
    }
   ],
   "source": [
    "ax = boston.plot(kind='scatter', x = 'CRIM', y = 'MEDV')"
   ]
  },
  {
   "cell_type": "code",
   "execution_count": 88,
   "metadata": {},
   "outputs": [
    {
     "data": {
      "text/plain": [
       "Index(['Unnamed: 0', 'CRIM', 'ZN', 'INDUS', 'CHAS', 'NOX', 'RM', 'AGE', 'DIS',\n",
       "       'RAD', 'TAX', 'PTRATIO', 'B', 'LSTAT', 'MEDV'],\n",
       "      dtype='object')"
      ]
     },
     "execution_count": 88,
     "metadata": {},
     "output_type": "execute_result"
    }
   ],
   "source": [
    "boston.columns"
   ]
  },
  {
   "cell_type": "code",
   "execution_count": 89,
   "metadata": {},
   "outputs": [
    {
     "data": {
      "image/png": "[encoded data removed]",
      "text/plain": [
       "<Figure size 432x288 with 1 Axes>"
      ]
     },
     "metadata": {
      "needs_background": "light"
     },
     "output_type": "display_data"
    }
   ],
   "source": [
    "ax = boston.plot(kind='scatter', x = 'ZN', y = 'MEDV')"
   ]
  },
  {
   "cell_type": "code",
   "execution_count": 90,
   "metadata": {},
   "outputs": [
    {
     "data": {
      "image/png": "[encoded data removed]",
      "text/plain": [
       "<Figure size 432x288 with 1 Axes>"
      ]
     },
     "metadata": {
      "needs_background": "light"
     },
     "output_type": "display_data"
    }
   ],
   "source": [
    "ax = boston.plot(kind='scatter', x = 'INDUS', y = 'MEDV')"
   ]
  },
  {
   "cell_type": "code",
   "execution_count": 91,
   "metadata": {},
   "outputs": [
    {
     "data": {
      "image/png": "[encoded data removed]",
      "text/plain": [
       "<Figure size 432x288 with 1 Axes>"
      ]
     },
     "metadata": {
      "needs_background": "light"
     },
     "output_type": "display_data"
    }
   ],
   "source": [
    "ax = boston.plot(kind='scatter', x = 'CHAS', y = 'MEDV')"
   ]
  },
  {
   "cell_type": "code",
   "execution_count": 92,
   "metadata": {},
   "outputs": [
    {
     "data": {
      "image/png": "[encoded data removed]",
      "text/plain": [
       "<Figure size 432x288 with 1 Axes>"
      ]
     },
     "metadata": {
      "needs_background": "light"
     },
     "output_type": "display_data"
    }
   ],
   "source": [
    "ax = boston.plot(kind='scatter', x = 'NOX', y = 'MEDV')"
   ]
  },
  {
   "cell_type": "code",
   "execution_count": 93,
   "metadata": {},
   "outputs": [
    {
     "data": {
      "image/png": "[encoded data removed]",
      "text/plain": [
       "<Figure size 432x288 with 1 Axes>"
      ]
     },
     "metadata": {
      "needs_background": "light"
     },
     "output_type": "display_data"
    }
   ],
   "source": [
    "ax = boston.plot(kind='scatter', x = 'RM', y = 'MEDV')"
   ]
  },
  {
   "cell_type": "code",
   "execution_count": 94,
   "metadata": {},
   "outputs": [
    {
     "data": {
      "image/png": "[encoded data removed]",
      "text/plain": [
       "<Figure size 432x288 with 1 Axes>"
      ]
     },
     "metadata": {
      "needs_background": "light"
     },
     "output_type": "display_data"
    }
   ],
   "source": [
    "ax = boston.plot(kind='scatter', x = 'AGE', y = 'MEDV')"
   ]
  },
  {
   "cell_type": "code",
   "execution_count": 95,
   "metadata": {},
   "outputs": [
    {
     "data": {
      "image/png": "[encoded data removed]",
      "text/plain": [
       "<Figure size 432x288 with 1 Axes>"
      ]
     },
     "metadata": {
      "needs_background": "light"
     },
     "output_type": "display_data"
    }
   ],
   "source": [
    "ax = boston.plot(kind='scatter', x = 'DIS', y = 'MEDV')"
   ]
  },
  {
   "cell_type": "code",
   "execution_count": 96,
   "metadata": {},
   "outputs": [
    {
     "data": {
      "image/png": "[encoded data removed]",
      "text/plain": [
       "<Figure size 432x288 with 1 Axes>"
      ]
     },
     "metadata": {
      "needs_background": "light"
     },
     "output_type": "display_data"
    }
   ],
   "source": [
    "ax = boston.plot(kind='scatter', x = 'RAD', y = 'MEDV')"
   ]
  },
  {
   "cell_type": "code",
   "execution_count": 97,
   "metadata": {},
   "outputs": [
    {
     "data": {
      "image/png": "[encoded data removed]",
      "text/plain": [
       "<Figure size 432x288 with 1 Axes>"
      ]
     },
     "metadata": {
      "needs_background": "light"
     },
     "output_type": "display_data"
    }
   ],
   "source": [
    "ax = boston.plot(kind='scatter', x = 'TAX', y = 'MEDV')"
   ]
  },
  {
   "cell_type": "code",
   "execution_count": 98,
   "metadata": {},
   "outputs": [
    {
     "data": {
      "image/png": "[encoded data removed]",
      "text/plain": [
       "<Figure size 432x288 with 1 Axes>"
      ]
     },
     "metadata": {
      "needs_background": "light"
     },
     "output_type": "display_data"
    }
   ],
   "source": [
    "ax = boston.plot(kind='scatter', x = 'PTRATIO', y = 'MEDV')"
   ]
  },
  {
   "cell_type": "code",
   "execution_count": 99,
   "metadata": {},
   "outputs": [
    {
     "data": {
      "image/png": "[encoded data removed]",
      "text/plain": [
       "<Figure size 432x288 with 1 Axes>"
      ]
     },
     "metadata": {
      "needs_background": "light"
     },
     "output_type": "display_data"
    }
   ],
   "source": [
    "ax = boston.plot(kind='scatter', x = 'B', y = 'MEDV')"
   ]
  },
  {
   "cell_type": "code",
   "execution_count": 100,
   "metadata": {},
   "outputs": [
    {
     "data": {
      "image/png": "[encoded data removed]",
      "text/plain": [
       "<Figure size 432x288 with 1 Axes>"
      ]
     },
     "metadata": {
      "needs_background": "light"
     },
     "output_type": "display_data"
    }
   ],
   "source": [
    "ax = boston.plot(kind='scatter', x = 'LSTAT', y = 'MEDV')"
   ]
  },
  {
   "cell_type": "markdown",
   "metadata": {},
   "source": [
    "## Create model with all columns to compare coefficients"
   ]
  },
  {
   "cell_type": "code",
   "execution_count": 101,
   "metadata": {},
   "outputs": [],
   "source": [
    "from sklearn.linear_model import LinearRegression"
   ]
  },
  {
   "cell_type": "code",
   "execution_count": 102,
   "metadata": {},
   "outputs": [],
   "source": [
    "lr_all = LinearRegression()"
   ]
  },
  {
   "cell_type": "code",
   "execution_count": 103,
   "metadata": {},
   "outputs": [
    {
     "data": {
      "text/plain": [
       "LinearRegression(copy_X=True, fit_intercept=True, n_jobs=1, normalize=False)"
      ]
     },
     "execution_count": 103,
     "metadata": {},
     "output_type": "execute_result"
    }
   ],
   "source": [
    "X = boston.loc[:,['CRIM','ZN','INDUS','CHAS','NOX','RM','AGE','DIS','RAD','TAX','PTRATIO','B','LSTAT']]\n",
    "y = boston.loc[:, 'MEDV']\n",
    "lr_all.fit(X, y)"
   ]
  },
  {
   "cell_type": "code",
   "execution_count": 104,
   "metadata": {},
   "outputs": [
    {
     "name": "stdout",
     "output_type": "stream",
     "text": [
      "36.49110328036143\n",
      "[-1.07170557e-01  4.63952195e-02  2.08602395e-02  2.68856140e+00\n",
      " -1.77957587e+01  3.80475246e+00  7.51061703e-04 -1.47575880e+00\n",
      "  3.05655038e-01 -1.23293463e-02 -9.53463555e-01  9.39251272e-03\n",
      " -5.25466633e-01]\n"
     ]
    }
   ],
   "source": [
    "print(lr_all.intercept_)\n",
    "print(lr_all.coef_)"
   ]
  },
  {
   "cell_type": "code",
   "execution_count": 105,
   "metadata": {},
   "outputs": [
    {
     "data": {
      "text/plain": [
       "[('CRIM', -0.10717055656035511),\n",
       " ('ZN', 0.04639521952979883),\n",
       " ('INDUS', 0.020860239532176833),\n",
       " ('CHAS', 2.688561399317925),\n",
       " ('NOX', -17.795758660309108),\n",
       " ('RM', 3.8047524602580016),\n",
       " ('AGE', 0.0007510617033214805),\n",
       " ('DIS', -1.4757587965198196),\n",
       " ('RAD', 0.3056550383391007),\n",
       " ('TAX', -0.012329346305270331),\n",
       " ('PTRATIO', -0.9534635546905595),\n",
       " ('B', 0.009392512722188951),\n",
       " ('LSTAT', -0.5254666329007874)]"
      ]
     },
     "execution_count": 105,
     "metadata": {},
     "output_type": "execute_result"
    }
   ],
   "source": [
    "list(zip(X.columns, lr_all.coef_))"
   ]
  },
  {
   "cell_type": "code",
   "execution_count": 106,
   "metadata": {},
   "outputs": [
    {
     "data": {
      "image/png": "[encoded data removed]",
      "text/plain": [
       "<Figure size 432x288 with 2 Axes>"
      ]
     },
     "metadata": {
      "needs_background": "light"
     },
     "output_type": "display_data"
    }
   ],
   "source": [
    "sns.heatmap(boston.corr(),\n",
    "            vmin=-1,\n",
    "            vmax=1,\n",
    "            cmap=sns.diverging_palette(220, 10, n=21),\n",
    "            );"
   ]
  },
  {
   "cell_type": "markdown",
   "metadata": {},
   "source": [
    "- Get the MSE of a null model that simply predicts the mean value of MEDV. (You could do a train/test split here, but it won't make much difference for such a simple model.)"
   ]
  },
  {
   "cell_type": "code",
   "execution_count": 107,
   "metadata": {},
   "outputs": [],
   "source": [
    "null_pred = np.zeros(y.shape)\n",
    "null_pred += np.mean(y)"
   ]
  },
  {
   "cell_type": "code",
   "execution_count": 108,
   "metadata": {},
   "outputs": [
    {
     "data": {
      "text/plain": [
       "84.41955615616554"
      ]
     },
     "execution_count": 108,
     "metadata": {},
     "output_type": "execute_result"
    }
   ],
   "source": [
    "# then compare predicting the mean every time to the true values\n",
    "null_mse =(metrics.mean_squared_error(null_pred, y))\n",
    "null_mse"
   ]
  },
  {
   "cell_type": "markdown",
   "metadata": {},
   "source": [
    "- Develop a linear regression model to predict MEDV. Train it on 70% of the data. Gets its MSE on both that 70% and the other 30%."
   ]
  },
  {
   "cell_type": "code",
   "execution_count": 109,
   "metadata": {
    "collapsed": true
   },
   "outputs": [],
   "source": [
    "# define fucntion tht accepts list of features and returns testing MSE\n",
    "from sklearn.model_selection import train_test_split\n",
    "\n",
    "def train_test_mse(boston, feature_cols):\n",
    "    X = boston.loc[:, feature_cols]\n",
    "    y = boston.loc[:, 'MEDV']\n",
    "    \n",
    "    X_train, X_test, y_train, y_test = train_test_split(X, y, test_size = 0.3, random_state=123)\n",
    "    \n",
    "    lr1 = LinearRegression()\n",
    "    lr1.fit(X, y)\n",
    "    \n",
    "    y_pred = lr1.predict(X_test)\n",
    "    mse = metrics.mean_squared_error(y_test, y_pred)\n",
    "    return mse"
   ]
  },
  {
   "cell_type": "code",
   "execution_count": 110,
   "metadata": {},
   "outputs": [
    {
     "name": "stdout",
     "output_type": "stream",
     "text": [
      "24.182528083903765\n",
      "32.59188266526802\n",
      "37.57891006551065\n",
      "29.738645285069353\n"
     ]
    }
   ],
   "source": [
    "\n",
    "#MSE for test data\n",
    "print(train_test_mse(boston, ['CRIM','ZN','INDUS','CHAS','NOX','RM','AGE','DIS','RAD','TAX','PTRATIO','B','LSTAT']))\n",
    "print(train_test_mse(boston, ['CRIM','ZN','INDUS','RM','TAX','PTRATIO','B','LSTAT']))\n",
    "print(train_test_mse(boston, ['INDUS','RM','LSTAT']))\n",
    "print(train_test_mse(boston, ['CRIM','ZN','INDUS','NOX','RM','AGE','RAD','TAX','PTRATIO','B','LSTAT']))\n"
   ]
  },
  {
   "cell_type": "code",
   "execution_count": 111,
   "metadata": {},
   "outputs": [
    {
     "name": "stdout",
     "output_type": "stream",
     "text": [
      "24.182528083903765\n",
      "20.916757105639835\n"
     ]
    }
   ],
   "source": [
    "feature_cols =['CRIM','ZN','INDUS','CHAS','NOX','RM','AGE','DIS','RAD','TAX','PTRATIO','B','LSTAT'] \n",
    "\n",
    "X = boston.loc[:, feature_cols]\n",
    "y = boston.loc[:, 'MEDV']\n",
    "    \n",
    "X_train, X_test, y_train, y_test = train_test_split(X, y, test_size = 0.3, random_state=123)\n",
    "    \n",
    "lr1 = LinearRegression()\n",
    "lr1.fit(X, y)\n",
    "    \n",
    "y_pred1 = lr1.predict(X_test)\n",
    "lr1_mse = metrics.mean_squared_error(y_test, y_pred1)\n",
    "\n",
    "lr2 = LinearRegression()\n",
    "lr2.fit(X, y)\n",
    "    \n",
    "y_pred2 = lr2.predict(X_train)\n",
    "lr2_mse = metrics.mean_squared_error(y_train, y_pred2)\n",
    "\n",
    "print(lr1_mse)\n",
    "print(lr2_mse)\n"
   ]
  },
  {
   "cell_type": "markdown",
   "metadata": {},
   "source": [
    "- How well did your model perform on the training set compared to the null model? What does this result tell you about the bias and/or variance of your model?"
   ]
  },
  {
   "cell_type": "markdown",
   "metadata": {},
   "source": [
    "- My model had a much lower MSE on both the training and testing data. This would indicate that it has lower bias more variance."
   ]
  },
  {
   "cell_type": "markdown",
   "metadata": {},
   "source": [
    "- K-fold cross-validation is slower than a simple train/test split, but it gives more reliable estimates of generalization error. Use ten-fold cross-validation to evaluate your model's MSE on both training and test data. Use this result to answer the following questions."
   ]
  },
  {
   "cell_type": "code",
   "execution_count": 112,
   "metadata": {},
   "outputs": [],
   "source": [
    "from sklearn import model_selection\n",
    "\n",
    "kf = model_selection.KFold(n_splits=10, shuffle=True)"
   ]
  },
  {
   "cell_type": "code",
   "execution_count": 113,
   "metadata": {},
   "outputs": [],
   "source": [
    "feature_cols = ['ZN','INDUS','CHAS','NOX','RM','AGE','DIS','TAX','PTRATIO','B','LSTAT']\n",
    "\n",
    "X = boston.loc[:, feature_cols]\n",
    "\n",
    "y = boston.loc[:, 'MEDV']"
   ]
  },
  {
   "cell_type": "code",
   "execution_count": 114,
   "metadata": {},
   "outputs": [
    {
     "data": {
      "text/plain": [
       "<generator object _BaseKFold.split at 0x1a1e56df48>"
      ]
     },
     "execution_count": 114,
     "metadata": {},
     "output_type": "execute_result"
    }
   ],
   "source": [
    "kf.split(X, y) #split the data into training and test sets"
   ]
  },
  {
   "cell_type": "code",
   "execution_count": 115,
   "metadata": {},
   "outputs": [
    {
     "name": "stdout",
     "output_type": "stream",
     "text": [
      "Average train MSE 22.929327067852398\n",
      "Average test MSE 25.281803415116897\n"
     ]
    }
   ],
   "source": [
    "train_mse_values = []\n",
    "test_mse_values= []\n",
    "\n",
    "for train_indices, test_indices in kf.split(X, y):\n",
    "    lr = LinearRegression()\n",
    "    X_train = X.iloc[train_indices, :]\n",
    "    y_train = y.iloc[train_indices]\n",
    "    X_test = X.iloc[test_indices, :]\n",
    "    y_test = y.iloc[test_indices]\n",
    "    \n",
    "    lr.fit(X_train, y_train)\n",
    "    y_pred_train = lr.predict(X_train)\n",
    "    y_pred_test = lr.predict(X_test)\n",
    "    \n",
    "    train_mse = metrics.mean_squared_error(y_train, y_pred_train)\n",
    "    test_mse = metrics.mean_squared_error(y_test, y_pred_test)\n",
    "    \n",
    "    train_mse_values.append(train_mse)\n",
    "    test_mse_values.append(test_mse)\n",
    "    \n",
    "    \n",
    "print('Average train MSE', sum(train_mse_values)/10)\n",
    "print('Average test MSE', sum(test_mse_values)/10)"
   ]
  },
  {
   "cell_type": "markdown",
   "metadata": {},
   "source": [
    "- How well did your model perform on the training set compared to the null model? What does this result tell you about the bias and/or variance of your model?"
   ]
  },
  {
   "cell_type": "markdown",
   "metadata": {},
   "source": [
    "The model performed substantially better than the null model. This means that it has higher variance than the null and lower bias. "
   ]
  },
  {
   "cell_type": "markdown",
   "metadata": {},
   "source": [
    "- How well did your model perform on the test set compared to how well it performed on the training set? What does this result tell you about the bias and/or variance of your model?"
   ]
  },
  {
   "cell_type": "markdown",
   "metadata": {},
   "source": [
    "The test set appears to outperform the training set. There is a gap between the two so this could indicate that there is a variance problem."
   ]
  },
  {
   "cell_type": "markdown",
   "metadata": {},
   "source": [
    "- How much of a bias problem does your model appear to have? Why do you say that?"
   ]
  },
  {
   "cell_type": "markdown",
   "metadata": {},
   "source": [
    "Given that the testing data did not perform as well it appears that the model has a bit of a bias problem."
   ]
  },
  {
   "cell_type": "markdown",
   "metadata": {},
   "source": [
    "- How much of a variance problem does your model appear to have? Why do you say that?"
   ]
  },
  {
   "cell_type": "markdown",
   "metadata": {},
   "source": [
    "There does not appear to be much of a variance problem since the test data did better than the training data."
   ]
  },
  {
   "cell_type": "markdown",
   "metadata": {},
   "source": [
    "- Add or remove variables from your model to address this problem, and get its test-set MSE using ten-fold cross validation. Did your model get better or worse? By how much?"
   ]
  },
  {
   "cell_type": "code",
   "execution_count": 116,
   "metadata": {},
   "outputs": [],
   "source": [
    "kf2 = model_selection.KFold(n_splits=10, shuffle=True)"
   ]
  },
  {
   "cell_type": "code",
   "execution_count": 117,
   "metadata": {},
   "outputs": [],
   "source": [
    "feature_cols = ['CRIM','ZN','DIS','AGE','RM','PTRATIO','B','LSTAT']\n",
    "\n",
    "X = boston.loc[:, feature_cols]\n",
    "\n",
    "y = boston.loc[:, 'MEDV']"
   ]
  },
  {
   "cell_type": "code",
   "execution_count": 118,
   "metadata": {},
   "outputs": [
    {
     "data": {
      "text/plain": [
       "<generator object _BaseKFold.split at 0x1a1cb1a1b0>"
      ]
     },
     "execution_count": 118,
     "metadata": {},
     "output_type": "execute_result"
    }
   ],
   "source": [
    "kf2.split(X, y) #split the data into training and test sets"
   ]
  },
  {
   "cell_type": "code",
   "execution_count": 119,
   "metadata": {},
   "outputs": [
    {
     "name": "stdout",
     "output_type": "stream",
     "text": [
      "Average train MSE 25.957561695428957\n",
      "Average test MSE 36.18003541453821\n"
     ]
    }
   ],
   "source": [
    "train_mse_values = []\n",
    "test_mse_values= []\n",
    "\n",
    "for train_indices, test_indices in kf.split(X, y):\n",
    "    lr = LinearRegression()\n",
    "    X_train = X.iloc[train_indices, :]\n",
    "    y_train = y.iloc[train_indices]\n",
    "    X_test = X.iloc[test_indices, :]\n",
    "    y_test = y.iloc[test_indices]\n",
    "    \n",
    "    lr.fit(X_train, y_train)\n",
    "    y_pred_train = lr.predict(X_train)\n",
    "    y_pred_test = lr.predict(X_test)\n",
    "    \n",
    "    train_mse = metrics.mean_squared_error(y_train, y_pred_train)\n",
    "    train_mse = metrics.mean_squared_error(y_test, y_pred_test)\n",
    "    \n",
    "    train_mse_values.append(train_mse)\n",
    "    test_mse_values.append(test_mse)\n",
    "    \n",
    "    \n",
    "print('Average train MSE', sum(train_mse_values)/10)\n",
    "print('Average test MSE', sum(test_mse_values)/10)"
   ]
  },
  {
   "cell_type": "markdown",
   "metadata": {},
   "source": [
    "Since the model initially included all available columns, it is not possible to add more. By removing features of various combinations, I was unable to improve the testing MSE significantly."
   ]
  },
  {
   "cell_type": "markdown",
   "metadata": {},
   "source": [
    "\n",
    "- **Bonus:** Find a *transformation* of one of more of your feature variables that allows you to create a model that performs better on the test set than your previous model. \n",
    "\n",
    "Possible examples:\n",
    "    - Square a column\n",
    "    - Take the square root of a column\n",
    "    - Take the logarithm of a column\n",
    "    - Multiply two columns together\n",
    "\n",
    "Tip: Look at scatterplots of MEDV against your column(s) before and after applying the transformation. The transformation should help if it makes the relationship more linear.\n"
   ]
  },
  {
   "cell_type": "markdown",
   "metadata": {},
   "source": [
    "# KNN Practice"
   ]
  },
  {
   "cell_type": "code",
   "execution_count": 120,
   "metadata": {
    "collapsed": true
   },
   "outputs": [],
   "source": [
    "# Read the iris data into a DataFrame\n",
    "url = 'http://archive.ics.uci.edu/ml/machine-learning-databases/iris/iris.data'\n",
    "\n",
    "col_names = ['sepal_length', 'sepal_width', 'petal_length', 'petal_width', 'species']\n",
    "iris = pd.read_csv(url, header=None, names=col_names)"
   ]
  },
  {
   "cell_type": "code",
   "execution_count": 121,
   "metadata": {
    "collapsed": true
   },
   "outputs": [],
   "source": [
    "iris.head()\n",
    "\n",
    "# Increase the default figure and font sizes for easier viewing\n",
    "plt.rcParams['figure.figsize'] = (6, 4)\n",
    "plt.rcParams['font.size'] = 14"
   ]
  },
  {
   "cell_type": "code",
   "execution_count": 122,
   "metadata": {
    "collapsed": true
   },
   "outputs": [],
   "source": [
    "# Create a custom colormap\n",
    "from matplotlib.colors import ListedColormap\n",
    "\n",
    "cmap_bold = ListedColormap(['#FF0000', '#00FF00', '#0000FF'])"
   ]
  },
  {
   "cell_type": "markdown",
   "metadata": {},
   "source": [
    "- Map each iris species to a number. Let's use Iris-setosa':0, 'Iris-versicolor':1, 'Iris-virginica':2 and assign the result to a column called 'species_num'."
   ]
  },
  {
   "cell_type": "code",
   "execution_count": 123,
   "metadata": {},
   "outputs": [],
   "source": [
    "iris.loc[:, 'species_num'] = iris.loc[:, 'species'].map({'Iris-setosa':0,\n",
    "                           'Iris-versicolor':1,\n",
    "                           'Iris-virginica':2})"
   ]
  },
  {
   "cell_type": "markdown",
   "metadata": {},
   "source": [
    "- Clean Up Data and Perform Exporatory Data Analysis"
   ]
  },
  {
   "cell_type": "markdown",
   "metadata": {},
   "source": [
    "**Items to include:**\n",
    "\n",
    "- Data shape\n",
    "- Data types\n",
    "- Count of null values by column\n",
    "- Basic summary statistics\n",
    "- Number of unique values for each column\n",
    "- Plot of the distribution of each column (e.g. histogram, bar plot, or box plot) grouped by species"
   ]
  },
  {
   "cell_type": "code",
   "execution_count": 124,
   "metadata": {},
   "outputs": [
    {
     "data": {
      "text/plain": [
       "(150, 6)"
      ]
     },
     "execution_count": 124,
     "metadata": {},
     "output_type": "execute_result"
    }
   ],
   "source": [
    "iris.shape"
   ]
  },
  {
   "cell_type": "code",
   "execution_count": 125,
   "metadata": {},
   "outputs": [
    {
     "data": {
      "text/plain": [
       "sepal_length    float64\n",
       "sepal_width     float64\n",
       "petal_length    float64\n",
       "petal_width     float64\n",
       "species          object\n",
       "species_num       int64\n",
       "dtype: object"
      ]
     },
     "execution_count": 125,
     "metadata": {},
     "output_type": "execute_result"
    }
   ],
   "source": [
    "iris.dtypes"
   ]
  },
  {
   "cell_type": "code",
   "execution_count": 126,
   "metadata": {},
   "outputs": [
    {
     "data": {
      "text/html": [
       "<div>\n",
       "<style scoped>\n",
       "    .dataframe tbody tr th:only-of-type {\n",
       "        vertical-align: middle;\n",
       "    }\n",
       "\n",
       "    .dataframe tbody tr th {\n",
       "        vertical-align: top;\n",
       "    }\n",
       "\n",
       "    .dataframe thead th {\n",
       "        text-align: right;\n",
       "    }\n",
       "</style>\n",
       "<table border=\"1\" class=\"dataframe\">\n",
       "  <thead>\n",
       "    <tr style=\"text-align: right;\">\n",
       "      <th></th>\n",
       "      <th>sepal_length</th>\n",
       "      <th>sepal_width</th>\n",
       "      <th>petal_length</th>\n",
       "      <th>petal_width</th>\n",
       "      <th>species_num</th>\n",
       "    </tr>\n",
       "  </thead>\n",
       "  <tbody>\n",
       "    <tr>\n",
       "      <th>count</th>\n",
       "      <td>150.000000</td>\n",
       "      <td>150.000000</td>\n",
       "      <td>150.000000</td>\n",
       "      <td>150.000000</td>\n",
       "      <td>150.000000</td>\n",
       "    </tr>\n",
       "    <tr>\n",
       "      <th>mean</th>\n",
       "      <td>5.843333</td>\n",
       "      <td>3.054000</td>\n",
       "      <td>3.758667</td>\n",
       "      <td>1.198667</td>\n",
       "      <td>1.000000</td>\n",
       "    </tr>\n",
       "    <tr>\n",
       "      <th>std</th>\n",
       "      <td>0.828066</td>\n",
       "      <td>0.433594</td>\n",
       "      <td>1.764420</td>\n",
       "      <td>0.763161</td>\n",
       "      <td>0.819232</td>\n",
       "    </tr>\n",
       "    <tr>\n",
       "      <th>min</th>\n",
       "      <td>4.300000</td>\n",
       "      <td>2.000000</td>\n",
       "      <td>1.000000</td>\n",
       "      <td>0.100000</td>\n",
       "      <td>0.000000</td>\n",
       "    </tr>\n",
       "    <tr>\n",
       "      <th>25%</th>\n",
       "      <td>5.100000</td>\n",
       "      <td>2.800000</td>\n",
       "      <td>1.600000</td>\n",
       "      <td>0.300000</td>\n",
       "      <td>0.000000</td>\n",
       "    </tr>\n",
       "    <tr>\n",
       "      <th>50%</th>\n",
       "      <td>5.800000</td>\n",
       "      <td>3.000000</td>\n",
       "      <td>4.350000</td>\n",
       "      <td>1.300000</td>\n",
       "      <td>1.000000</td>\n",
       "    </tr>\n",
       "    <tr>\n",
       "      <th>75%</th>\n",
       "      <td>6.400000</td>\n",
       "      <td>3.300000</td>\n",
       "      <td>5.100000</td>\n",
       "      <td>1.800000</td>\n",
       "      <td>2.000000</td>\n",
       "    </tr>\n",
       "    <tr>\n",
       "      <th>max</th>\n",
       "      <td>7.900000</td>\n",
       "      <td>4.400000</td>\n",
       "      <td>6.900000</td>\n",
       "      <td>2.500000</td>\n",
       "      <td>2.000000</td>\n",
       "    </tr>\n",
       "  </tbody>\n",
       "</table>\n",
       "</div>"
      ],
      "text/plain": [
       "       sepal_length  sepal_width  petal_length  petal_width  species_num\n",
       "count    150.000000   150.000000    150.000000   150.000000   150.000000\n",
       "mean       5.843333     3.054000      3.758667     1.198667     1.000000\n",
       "std        0.828066     0.433594      1.764420     0.763161     0.819232\n",
       "min        4.300000     2.000000      1.000000     0.100000     0.000000\n",
       "25%        5.100000     2.800000      1.600000     0.300000     0.000000\n",
       "50%        5.800000     3.000000      4.350000     1.300000     1.000000\n",
       "75%        6.400000     3.300000      5.100000     1.800000     2.000000\n",
       "max        7.900000     4.400000      6.900000     2.500000     2.000000"
      ]
     },
     "execution_count": 126,
     "metadata": {},
     "output_type": "execute_result"
    }
   ],
   "source": [
    "iris.describe()"
   ]
  },
  {
   "cell_type": "code",
   "execution_count": 127,
   "metadata": {},
   "outputs": [
    {
     "data": {
      "text/plain": [
       "sepal_length    0\n",
       "sepal_width     0\n",
       "petal_length    0\n",
       "petal_width     0\n",
       "species         0\n",
       "species_num     0\n",
       "dtype: int64"
      ]
     },
     "execution_count": 127,
     "metadata": {},
     "output_type": "execute_result"
    }
   ],
   "source": [
    "iris.isnull().sum()"
   ]
  },
  {
   "cell_type": "code",
   "execution_count": 128,
   "metadata": {},
   "outputs": [
    {
     "data": {
      "text/html": [
       "<div>\n",
       "<style scoped>\n",
       "    .dataframe tbody tr th:only-of-type {\n",
       "        vertical-align: middle;\n",
       "    }\n",
       "\n",
       "    .dataframe tbody tr th {\n",
       "        vertical-align: top;\n",
       "    }\n",
       "\n",
       "    .dataframe thead th {\n",
       "        text-align: right;\n",
       "    }\n",
       "</style>\n",
       "<table border=\"1\" class=\"dataframe\">\n",
       "  <thead>\n",
       "    <tr style=\"text-align: right;\">\n",
       "      <th></th>\n",
       "      <th>sepal_length</th>\n",
       "      <th>sepal_width</th>\n",
       "      <th>petal_length</th>\n",
       "      <th>petal_width</th>\n",
       "      <th>species_num</th>\n",
       "    </tr>\n",
       "    <tr>\n",
       "      <th>species</th>\n",
       "      <th></th>\n",
       "      <th></th>\n",
       "      <th></th>\n",
       "      <th></th>\n",
       "      <th></th>\n",
       "    </tr>\n",
       "  </thead>\n",
       "  <tbody>\n",
       "    <tr>\n",
       "      <th>Iris-setosa</th>\n",
       "      <td>5.006</td>\n",
       "      <td>3.418</td>\n",
       "      <td>1.464</td>\n",
       "      <td>0.244</td>\n",
       "      <td>0</td>\n",
       "    </tr>\n",
       "    <tr>\n",
       "      <th>Iris-versicolor</th>\n",
       "      <td>5.936</td>\n",
       "      <td>2.770</td>\n",
       "      <td>4.260</td>\n",
       "      <td>1.326</td>\n",
       "      <td>1</td>\n",
       "    </tr>\n",
       "    <tr>\n",
       "      <th>Iris-virginica</th>\n",
       "      <td>6.588</td>\n",
       "      <td>2.974</td>\n",
       "      <td>5.552</td>\n",
       "      <td>2.026</td>\n",
       "      <td>2</td>\n",
       "    </tr>\n",
       "  </tbody>\n",
       "</table>\n",
       "</div>"
      ],
      "text/plain": [
       "                 sepal_length  sepal_width  petal_length  petal_width  \\\n",
       "species                                                                 \n",
       "Iris-setosa             5.006        3.418         1.464        0.244   \n",
       "Iris-versicolor         5.936        2.770         4.260        1.326   \n",
       "Iris-virginica          6.588        2.974         5.552        2.026   \n",
       "\n",
       "                 species_num  \n",
       "species                       \n",
       "Iris-setosa                0  \n",
       "Iris-versicolor            1  \n",
       "Iris-virginica             2  "
      ]
     },
     "execution_count": 128,
     "metadata": {},
     "output_type": "execute_result"
    }
   ],
   "source": [
    "iris.groupby('species').mean()"
   ]
  },
  {
   "cell_type": "code",
   "execution_count": 129,
   "metadata": {},
   "outputs": [
    {
     "data": {
      "text/plain": [
       "sepal_length    35\n",
       "sepal_width     23\n",
       "petal_length    43\n",
       "petal_width     22\n",
       "species          3\n",
       "species_num      3\n",
       "dtype: int64"
      ]
     },
     "execution_count": 129,
     "metadata": {},
     "output_type": "execute_result"
    }
   ],
   "source": [
    "iris.nunique()"
   ]
  },
  {
   "cell_type": "code",
   "execution_count": 130,
   "metadata": {},
   "outputs": [
    {
     "data": {
      "image/png": "[encoded data removed]",
      "text/plain": [
       "<Figure size 432x576 with 1 Axes>"
      ]
     },
     "metadata": {
      "needs_background": "light"
     },
     "output_type": "display_data"
    }
   ],
   "source": [
    "iris.boxplot(column='petal_width', by = 'species', figsize = (6,8));"
   ]
  },
  {
   "cell_type": "code",
   "execution_count": 131,
   "metadata": {},
   "outputs": [
    {
     "data": {
      "text/html": [
       "<div>\n",
       "<style scoped>\n",
       "    .dataframe tbody tr th:only-of-type {\n",
       "        vertical-align: middle;\n",
       "    }\n",
       "\n",
       "    .dataframe tbody tr th {\n",
       "        vertical-align: top;\n",
       "    }\n",
       "\n",
       "    .dataframe thead th {\n",
       "        text-align: right;\n",
       "    }\n",
       "</style>\n",
       "<table border=\"1\" class=\"dataframe\">\n",
       "  <thead>\n",
       "    <tr style=\"text-align: right;\">\n",
       "      <th></th>\n",
       "      <th>sepal_length</th>\n",
       "      <th>sepal_width</th>\n",
       "      <th>petal_length</th>\n",
       "      <th>petal_width</th>\n",
       "      <th>species</th>\n",
       "      <th>species_num</th>\n",
       "    </tr>\n",
       "  </thead>\n",
       "  <tbody>\n",
       "    <tr>\n",
       "      <th>0</th>\n",
       "      <td>5.1</td>\n",
       "      <td>3.5</td>\n",
       "      <td>1.4</td>\n",
       "      <td>0.2</td>\n",
       "      <td>Iris-setosa</td>\n",
       "      <td>0</td>\n",
       "    </tr>\n",
       "    <tr>\n",
       "      <th>1</th>\n",
       "      <td>4.9</td>\n",
       "      <td>3.0</td>\n",
       "      <td>1.4</td>\n",
       "      <td>0.2</td>\n",
       "      <td>Iris-setosa</td>\n",
       "      <td>0</td>\n",
       "    </tr>\n",
       "    <tr>\n",
       "      <th>2</th>\n",
       "      <td>4.7</td>\n",
       "      <td>3.2</td>\n",
       "      <td>1.3</td>\n",
       "      <td>0.2</td>\n",
       "      <td>Iris-setosa</td>\n",
       "      <td>0</td>\n",
       "    </tr>\n",
       "    <tr>\n",
       "      <th>3</th>\n",
       "      <td>4.6</td>\n",
       "      <td>3.1</td>\n",
       "      <td>1.5</td>\n",
       "      <td>0.2</td>\n",
       "      <td>Iris-setosa</td>\n",
       "      <td>0</td>\n",
       "    </tr>\n",
       "    <tr>\n",
       "      <th>4</th>\n",
       "      <td>5.0</td>\n",
       "      <td>3.6</td>\n",
       "      <td>1.4</td>\n",
       "      <td>0.2</td>\n",
       "      <td>Iris-setosa</td>\n",
       "      <td>0</td>\n",
       "    </tr>\n",
       "  </tbody>\n",
       "</table>\n",
       "</div>"
      ],
      "text/plain": [
       "   sepal_length  sepal_width  petal_length  petal_width      species  \\\n",
       "0           5.1          3.5           1.4          0.2  Iris-setosa   \n",
       "1           4.9          3.0           1.4          0.2  Iris-setosa   \n",
       "2           4.7          3.2           1.3          0.2  Iris-setosa   \n",
       "3           4.6          3.1           1.5          0.2  Iris-setosa   \n",
       "4           5.0          3.6           1.4          0.2  Iris-setosa   \n",
       "\n",
       "   species_num  \n",
       "0            0  \n",
       "1            0  \n",
       "2            0  \n",
       "3            0  \n",
       "4            0  "
      ]
     },
     "execution_count": 131,
     "metadata": {},
     "output_type": "execute_result"
    }
   ],
   "source": [
    "iris.head()"
   ]
  },
  {
   "cell_type": "code",
   "execution_count": 132,
   "metadata": {},
   "outputs": [
    {
     "data": {
      "image/png": "[encoded data removed]",
      "text/plain": [
       "<Figure size 432x288 with 1 Axes>"
      ]
     },
     "metadata": {
      "needs_background": "light"
     },
     "output_type": "display_data"
    }
   ],
   "source": [
    "fig, ax = plt.subplots()\n",
    "for species in iris.loc[:, 'species'].unique():\n",
    "    ax.scatter(data=iris.loc[iris.loc[:, 'species'] == species, :], x='petal_length', y='petal_width', label=species)\n",
    "    ax.legend();"
   ]
  },
  {
   "cell_type": "code",
   "execution_count": 133,
   "metadata": {},
   "outputs": [
    {
     "data": {
      "text/html": [
       "<div>\n",
       "<style scoped>\n",
       "    .dataframe tbody tr th:only-of-type {\n",
       "        vertical-align: middle;\n",
       "    }\n",
       "\n",
       "    .dataframe tbody tr th {\n",
       "        vertical-align: top;\n",
       "    }\n",
       "\n",
       "    .dataframe thead th {\n",
       "        text-align: right;\n",
       "    }\n",
       "</style>\n",
       "<table border=\"1\" class=\"dataframe\">\n",
       "  <thead>\n",
       "    <tr style=\"text-align: right;\">\n",
       "      <th></th>\n",
       "      <th>sepal_length</th>\n",
       "      <th>sepal_width</th>\n",
       "      <th>petal_length</th>\n",
       "      <th>petal_width</th>\n",
       "      <th>species_num</th>\n",
       "    </tr>\n",
       "    <tr>\n",
       "      <th>species</th>\n",
       "      <th></th>\n",
       "      <th></th>\n",
       "      <th></th>\n",
       "      <th></th>\n",
       "      <th></th>\n",
       "    </tr>\n",
       "  </thead>\n",
       "  <tbody>\n",
       "    <tr>\n",
       "      <th>Iris-setosa</th>\n",
       "      <td>250.3</td>\n",
       "      <td>170.9</td>\n",
       "      <td>73.2</td>\n",
       "      <td>12.2</td>\n",
       "      <td>0</td>\n",
       "    </tr>\n",
       "    <tr>\n",
       "      <th>Iris-versicolor</th>\n",
       "      <td>296.8</td>\n",
       "      <td>138.5</td>\n",
       "      <td>213.0</td>\n",
       "      <td>66.3</td>\n",
       "      <td>50</td>\n",
       "    </tr>\n",
       "    <tr>\n",
       "      <th>Iris-virginica</th>\n",
       "      <td>329.4</td>\n",
       "      <td>148.7</td>\n",
       "      <td>277.6</td>\n",
       "      <td>101.3</td>\n",
       "      <td>100</td>\n",
       "    </tr>\n",
       "  </tbody>\n",
       "</table>\n",
       "</div>"
      ],
      "text/plain": [
       "                 sepal_length  sepal_width  petal_length  petal_width  \\\n",
       "species                                                                 \n",
       "Iris-setosa             250.3        170.9          73.2         12.2   \n",
       "Iris-versicolor         296.8        138.5         213.0         66.3   \n",
       "Iris-virginica          329.4        148.7         277.6        101.3   \n",
       "\n",
       "                 species_num  \n",
       "species                       \n",
       "Iris-setosa                0  \n",
       "Iris-versicolor           50  \n",
       "Iris-virginica           100  "
      ]
     },
     "execution_count": 133,
     "metadata": {},
     "output_type": "execute_result"
    }
   ],
   "source": [
    "iris.groupby('species').sum()"
   ]
  },
  {
   "cell_type": "markdown",
   "metadata": {},
   "source": [
    "- Get the accuracy of a null model that simply predicts the most common species."
   ]
  },
  {
   "cell_type": "code",
   "execution_count": 136,
   "metadata": {},
   "outputs": [
    {
     "data": {
      "text/plain": [
       "array([2., 2., 2., 2., 2., 2., 2., 2., 2., 2., 2., 2., 2., 2., 2., 2., 2.,\n",
       "       2., 2., 2., 2., 2., 2., 2., 2., 2., 2., 2., 2., 2., 2., 2., 2., 2.,\n",
       "       2., 2., 2., 2., 2., 2., 2., 2., 2., 2., 2., 2., 2., 2., 2., 2., 2.,\n",
       "       2., 2., 2., 2., 2., 2., 2., 2., 2., 2., 2., 2., 2., 2., 2., 2., 2.,\n",
       "       2., 2., 2., 2., 2., 2., 2., 2., 2., 2., 2., 2., 2., 2., 2., 2., 2.,\n",
       "       2., 2., 2., 2., 2., 2., 2., 2., 2., 2., 2., 2., 2., 2., 2., 2., 2.,\n",
       "       2., 2., 2., 2., 2., 2., 2., 2., 2., 2., 2., 2., 2., 2., 2., 2., 2.,\n",
       "       2., 2., 2., 2., 2., 2., 2., 2., 2., 2., 2., 2., 2., 2., 2., 2., 2.,\n",
       "       2., 2., 2., 2., 2., 2., 2., 2., 2., 2., 2., 2., 2., 2.])"
      ]
     },
     "execution_count": 136,
     "metadata": {},
     "output_type": "execute_result"
    }
   ],
   "source": [
    "y = iris.loc[:,'species_num']\n",
    "most_common_value = y.value_counts().idxmax()\n",
    "null_pred = np.zeros(y.shape) + most_common_value\n",
    "null_pred"
   ]
  },
  {
   "cell_type": "code",
   "execution_count": 137,
   "metadata": {},
   "outputs": [
    {
     "data": {
      "text/plain": [
       "0.3333333333333333"
      ]
     },
     "execution_count": 137,
     "metadata": {},
     "output_type": "execute_result"
    }
   ],
   "source": [
    "null_accuracy = metrics.accuracy_score(null_pred, y)\n",
    "null_accuracy"
   ]
  },
  {
   "cell_type": "code",
   "execution_count": 72,
   "metadata": {},
   "outputs": [],
   "source": [
    "null_pred = np.zeros(y.shape)\n",
    "null_pred += np.mean(y)"
   ]
  },
  {
   "cell_type": "code",
   "execution_count": 138,
   "metadata": {},
   "outputs": [
    {
     "data": {
      "text/plain": [
       "1.6666666666666667"
      ]
     },
     "execution_count": 138,
     "metadata": {},
     "output_type": "execute_result"
    }
   ],
   "source": [
    "null_mse =(metrics.mean_squared_error(null_pred, y))\n",
    "null_mse"
   ]
  },
  {
   "cell_type": "markdown",
   "metadata": {},
   "source": [
    "- Develop a KNN model to predict species. Use ten-fold cross-validation to evaluate your model's accuracy on both training and test data. Remember to standardize your feature variables!"
   ]
  },
  {
   "cell_type": "code",
   "execution_count": 139,
   "metadata": {},
   "outputs": [],
   "source": [
    "feature_cols = ['sepal_length','sepal_width', 'petal_length','petal_width']\n",
    "X = iris.loc[:, feature_cols]\n",
    "y = iris.loc[:,'species_num']"
   ]
  },
  {
   "cell_type": "code",
   "execution_count": 140,
   "metadata": {},
   "outputs": [
    {
     "data": {
      "text/plain": [
       "Index(['sepal_length', 'sepal_width', 'petal_length', 'petal_width', 'species',\n",
       "       'species_num'],\n",
       "      dtype='object')"
      ]
     },
     "execution_count": 140,
     "metadata": {},
     "output_type": "execute_result"
    }
   ],
   "source": [
    "iris.columns"
   ]
  },
  {
   "cell_type": "code",
   "execution_count": 141,
   "metadata": {},
   "outputs": [],
   "source": [
    "from sklearn.neighbors import KNeighborsClassifier\n",
    "from sklearn.model_selection import train_test_split\n",
    "from sklearn import metrics"
   ]
  },
  {
   "cell_type": "code",
   "execution_count": 142,
   "metadata": {},
   "outputs": [],
   "source": [
    "X_train, X_test, y_train, y_test = train_test_split(X, y, random_state=99, shuffle=True)"
   ]
  },
  {
   "cell_type": "code",
   "execution_count": 143,
   "metadata": {},
   "outputs": [
    {
     "data": {
      "text/plain": [
       "KNeighborsClassifier(algorithm='auto', leaf_size=30, metric='minkowski',\n",
       "           metric_params=None, n_jobs=1, n_neighbors=1, p=2,\n",
       "           weights='uniform')"
      ]
     },
     "execution_count": 143,
     "metadata": {},
     "output_type": "execute_result"
    }
   ],
   "source": [
    "knn = KNeighborsClassifier(n_neighbors=1)\n",
    "knn.fit(X_train, y_train)"
   ]
  },
  {
   "cell_type": "code",
   "execution_count": 144,
   "metadata": {},
   "outputs": [
    {
     "data": {
      "text/plain": [
       "0.9210526315789473"
      ]
     },
     "execution_count": 144,
     "metadata": {},
     "output_type": "execute_result"
    }
   ],
   "source": [
    "y_pred_class = knn.predict(X_test)\n",
    "metrics.accuracy_score(y_test, y_pred_class)"
   ]
  },
  {
   "cell_type": "code",
   "execution_count": 154,
   "metadata": {},
   "outputs": [
    {
     "data": {
      "text/plain": [
       "0.9333333333333333"
      ]
     },
     "execution_count": 154,
     "metadata": {},
     "output_type": "execute_result"
    }
   ],
   "source": [
    "knn = KNeighborsClassifier(n_neighbors=30)\n",
    "knn.fit(X_train, y_train)\n",
    "y_pred_class = knn.predict(X_test)\n",
    "metrics.accuracy_score(y_test, y_pred_class)"
   ]
  },
  {
   "cell_type": "code",
   "execution_count": 155,
   "metadata": {},
   "outputs": [],
   "source": [
    "from sklearn.model_selection import KFold\n",
    "\n",
    "kf2 = KFold(n_splits=10, shuffle=True)"
   ]
  },
  {
   "cell_type": "code",
   "execution_count": 156,
   "metadata": {},
   "outputs": [
    {
     "data": {
      "text/plain": [
       "[(array([  0,   1,   2,   3,   4,   5,   6,   7,   8,  10,  12,  13,  14,\n",
       "          15,  16,  17,  18,  19,  21,  22,  25,  26,  27,  28,  29,  30,\n",
       "          31,  32,  33,  34,  35,  36,  37,  38,  39,  40,  41,  42,  43,\n",
       "          44,  45,  46,  47,  48,  49,  51,  52,  53,  54,  55,  56,  58,\n",
       "          59,  60,  61,  62,  64,  65,  66,  67,  68,  69,  70,  71,  72,\n",
       "          73,  74,  75,  76,  77,  78,  79,  80,  81,  82,  83,  84,  85,\n",
       "          86,  88,  89,  90,  91,  92,  93,  94,  95,  96,  97,  98,  99,\n",
       "         100, 101, 102, 103, 104, 105, 106, 107, 108, 109, 110, 111, 112,\n",
       "         114, 115, 117, 118, 119, 120, 121, 122, 123, 125, 127, 129, 130,\n",
       "         131, 132, 133, 134, 136, 137, 138, 139, 140, 141, 142, 143, 144,\n",
       "         145, 146, 147, 148, 149]),\n",
       "  array([  9,  11,  20,  23,  24,  50,  57,  63,  87, 113, 116, 124, 126,\n",
       "         128, 135])),\n",
       " (array([  1,   2,   3,   4,   6,   7,   8,   9,  10,  11,  12,  13,  16,\n",
       "          17,  18,  19,  20,  21,  23,  24,  25,  26,  27,  28,  29,  30,\n",
       "          31,  32,  33,  34,  35,  36,  37,  38,  39,  40,  41,  42,  43,\n",
       "          44,  45,  46,  47,  48,  49,  50,  51,  52,  53,  54,  55,  56,\n",
       "          57,  58,  59,  60,  61,  62,  63,  64,  65,  66,  68,  69,  70,\n",
       "          71,  72,  73,  74,  75,  76,  77,  78,  79,  80,  81,  82,  83,\n",
       "          84,  85,  86,  87,  89,  90,  91,  92,  93,  94, 100, 101, 102,\n",
       "         103, 104, 105, 106, 107, 108, 109, 110, 111, 113, 114, 115, 116,\n",
       "         117, 118, 119, 120, 121, 122, 123, 124, 125, 126, 127, 128, 129,\n",
       "         130, 131, 132, 133, 134, 135, 136, 137, 138, 139, 140, 141, 142,\n",
       "         143, 144, 145, 146, 147]),\n",
       "  array([  0,   5,  14,  15,  22,  67,  88,  95,  96,  97,  98,  99, 112,\n",
       "         148, 149])),\n",
       " (array([  0,   1,   2,   3,   4,   5,   6,   7,   8,   9,  10,  11,  12,\n",
       "          13,  14,  15,  16,  17,  18,  20,  22,  23,  24,  25,  26,  27,\n",
       "          28,  29,  30,  31,  32,  33,  34,  35,  36,  37,  38,  39,  40,\n",
       "          41,  42,  43,  44,  45,  46,  47,  48,  49,  50,  52,  53,  55,\n",
       "          56,  57,  59,  60,  61,  63,  64,  67,  68,  69,  70,  71,  72,\n",
       "          73,  74,  75,  76,  78,  79,  80,  81,  82,  83,  84,  85,  87,\n",
       "          88,  89,  90,  91,  92,  93,  94,  95,  96,  97,  98,  99, 100,\n",
       "         101, 102, 103, 104, 105, 106, 107, 108, 109, 110, 111, 112, 113,\n",
       "         115, 116, 117, 118, 119, 120, 121, 122, 123, 124, 125, 126, 127,\n",
       "         128, 130, 131, 132, 133, 134, 135, 136, 137, 139, 140, 141, 143,\n",
       "         145, 146, 147, 148, 149]),\n",
       "  array([ 19,  21,  51,  54,  58,  62,  65,  66,  77,  86, 114, 129, 138,\n",
       "         142, 144])),\n",
       " (array([  0,   1,   2,   3,   5,   6,   8,   9,  10,  11,  12,  13,  14,\n",
       "          15,  16,  17,  18,  19,  20,  21,  22,  23,  24,  25,  26,  27,\n",
       "          28,  30,  31,  33,  36,  37,  38,  39,  40,  42,  43,  44,  45,\n",
       "          46,  47,  48,  49,  50,  51,  52,  53,  54,  55,  56,  57,  58,\n",
       "          59,  60,  61,  62,  63,  64,  65,  66,  67,  68,  69,  70,  71,\n",
       "          72,  73,  74,  76,  77,  78,  79,  80,  81,  82,  83,  85,  86,\n",
       "          87,  88,  89,  90,  91,  92,  93,  94,  95,  96,  97,  98,  99,\n",
       "         100, 102, 103, 104, 105, 106, 108, 110, 111, 112, 113, 114, 115,\n",
       "         116, 117, 119, 120, 121, 122, 123, 124, 125, 126, 127, 128, 129,\n",
       "         130, 131, 132, 133, 134, 135, 136, 137, 138, 139, 141, 142, 143,\n",
       "         144, 145, 147, 148, 149]),\n",
       "  array([  4,   7,  29,  32,  34,  35,  41,  75,  84, 101, 107, 109, 118,\n",
       "         140, 146])),\n",
       " (array([  0,   1,   2,   4,   5,   6,   7,   9,  10,  11,  12,  13,  14,\n",
       "          15,  17,  18,  19,  20,  21,  22,  23,  24,  26,  27,  28,  29,\n",
       "          30,  31,  32,  34,  35,  36,  38,  39,  40,  41,  43,  44,  45,\n",
       "          46,  47,  48,  49,  50,  51,  52,  53,  54,  55,  56,  57,  58,\n",
       "          60,  61,  62,  63,  64,  65,  66,  67,  68,  69,  70,  72,  73,\n",
       "          74,  75,  76,  77,  78,  79,  81,  82,  84,  85,  86,  87,  88,\n",
       "          89,  90,  91,  92,  93,  94,  95,  96,  97,  98,  99, 100, 101,\n",
       "         103, 104, 105, 106, 107, 108, 109, 110, 111, 112, 113, 114, 115,\n",
       "         116, 117, 118, 119, 120, 121, 123, 124, 125, 126, 127, 128, 129,\n",
       "         130, 131, 133, 134, 135, 136, 138, 139, 140, 141, 142, 143, 144,\n",
       "         145, 146, 147, 148, 149]),\n",
       "  array([  3,   8,  16,  25,  33,  37,  42,  59,  71,  80,  83, 102, 122,\n",
       "         132, 137])),\n",
       " (array([  0,   1,   2,   3,   4,   5,   6,   7,   8,   9,  10,  11,  12,\n",
       "          13,  14,  15,  16,  17,  18,  19,  20,  21,  22,  23,  24,  25,\n",
       "          26,  28,  29,  30,  31,  32,  33,  34,  35,  36,  37,  39,  40,\n",
       "          41,  42,  43,  44,  45,  46,  47,  50,  51,  52,  53,  54,  55,\n",
       "          56,  57,  58,  59,  60,  61,  62,  63,  65,  66,  67,  68,  69,\n",
       "          70,  71,  72,  74,  75,  77,  79,  80,  81,  82,  83,  84,  85,\n",
       "          86,  87,  88,  89,  90,  91,  92,  93,  94,  95,  96,  97,  98,\n",
       "          99, 100, 101, 102, 104, 107, 108, 109, 110, 112, 113, 114, 115,\n",
       "         116, 117, 118, 119, 120, 121, 122, 123, 124, 125, 126, 127, 128,\n",
       "         129, 130, 132, 133, 134, 135, 136, 137, 138, 140, 141, 142, 143,\n",
       "         144, 145, 146, 148, 149]),\n",
       "  array([ 27,  38,  48,  49,  64,  73,  76,  78, 103, 105, 106, 111, 131,\n",
       "         139, 147])),\n",
       " (array([  0,   3,   4,   5,   7,   8,   9,  11,  12,  13,  14,  15,  16,\n",
       "          17,  19,  20,  21,  22,  23,  24,  25,  27,  28,  29,  31,  32,\n",
       "          33,  34,  35,  36,  37,  38,  39,  41,  42,  43,  44,  45,  46,\n",
       "          48,  49,  50,  51,  52,  53,  54,  55,  56,  57,  58,  59,  61,\n",
       "          62,  63,  64,  65,  66,  67,  68,  69,  70,  71,  72,  73,  74,\n",
       "          75,  76,  77,  78,  79,  80,  82,  83,  84,  85,  86,  87,  88,\n",
       "          89,  90,  91,  92,  93,  94,  95,  96,  97,  98,  99, 100, 101,\n",
       "         102, 103, 104, 105, 106, 107, 109, 110, 111, 112, 113, 114, 115,\n",
       "         116, 117, 118, 119, 120, 122, 124, 125, 126, 127, 128, 129, 130,\n",
       "         131, 132, 133, 134, 135, 137, 138, 139, 140, 141, 142, 143, 144,\n",
       "         145, 146, 147, 148, 149]),\n",
       "  array([  1,   2,   6,  10,  18,  26,  30,  40,  47,  60,  81, 108, 121,\n",
       "         123, 136])),\n",
       " (array([  0,   1,   2,   3,   4,   5,   6,   7,   8,   9,  10,  11,  14,\n",
       "          15,  16,  18,  19,  20,  21,  22,  23,  24,  25,  26,  27,  29,\n",
       "          30,  32,  33,  34,  35,  37,  38,  39,  40,  41,  42,  43,  44,\n",
       "          47,  48,  49,  50,  51,  52,  53,  54,  55,  56,  57,  58,  59,\n",
       "          60,  61,  62,  63,  64,  65,  66,  67,  68,  70,  71,  72,  73,\n",
       "          74,  75,  76,  77,  78,  79,  80,  81,  82,  83,  84,  85,  86,\n",
       "          87,  88,  89,  90,  91,  92,  95,  96,  97,  98,  99, 101, 102,\n",
       "         103, 104, 105, 106, 107, 108, 109, 110, 111, 112, 113, 114, 115,\n",
       "         116, 117, 118, 119, 120, 121, 122, 123, 124, 125, 126, 128, 129,\n",
       "         130, 131, 132, 135, 136, 137, 138, 139, 140, 141, 142, 143, 144,\n",
       "         145, 146, 147, 148, 149]),\n",
       "  array([ 12,  13,  17,  28,  31,  36,  45,  46,  69,  93,  94, 100, 127,\n",
       "         133, 134])),\n",
       " (array([  0,   1,   2,   3,   4,   5,   6,   7,   8,   9,  10,  11,  12,\n",
       "          13,  14,  15,  16,  17,  18,  19,  20,  21,  22,  23,  24,  25,\n",
       "          26,  27,  28,  29,  30,  31,  32,  33,  34,  35,  36,  37,  38,\n",
       "          39,  40,  41,  42,  44,  45,  46,  47,  48,  49,  50,  51,  52,\n",
       "          54,  55,  56,  57,  58,  59,  60,  62,  63,  64,  65,  66,  67,\n",
       "          68,  69,  70,  71,  73,  75,  76,  77,  78,  80,  81,  83,  84,\n",
       "          85,  86,  87,  88,  92,  93,  94,  95,  96,  97,  98,  99, 100,\n",
       "         101, 102, 103, 104, 105, 106, 107, 108, 109, 110, 111, 112, 113,\n",
       "         114, 115, 116, 118, 121, 122, 123, 124, 125, 126, 127, 128, 129,\n",
       "         131, 132, 133, 134, 135, 136, 137, 138, 139, 140, 141, 142, 144,\n",
       "         145, 146, 147, 148, 149]),\n",
       "  array([ 43,  53,  61,  72,  74,  79,  82,  89,  90,  91, 117, 119, 120,\n",
       "         130, 143])),\n",
       " (array([  0,   1,   2,   3,   4,   5,   6,   7,   8,   9,  10,  11,  12,\n",
       "          13,  14,  15,  16,  17,  18,  19,  20,  21,  22,  23,  24,  25,\n",
       "          26,  27,  28,  29,  30,  31,  32,  33,  34,  35,  36,  37,  38,\n",
       "          40,  41,  42,  43,  45,  46,  47,  48,  49,  50,  51,  53,  54,\n",
       "          57,  58,  59,  60,  61,  62,  63,  64,  65,  66,  67,  69,  71,\n",
       "          72,  73,  74,  75,  76,  77,  78,  79,  80,  81,  82,  83,  84,\n",
       "          86,  87,  88,  89,  90,  91,  93,  94,  95,  96,  97,  98,  99,\n",
       "         100, 101, 102, 103, 105, 106, 107, 108, 109, 111, 112, 113, 114,\n",
       "         116, 117, 118, 119, 120, 121, 122, 123, 124, 126, 127, 128, 129,\n",
       "         130, 131, 132, 133, 134, 135, 136, 137, 138, 139, 140, 142, 143,\n",
       "         144, 146, 147, 148, 149]),\n",
       "  array([ 39,  44,  52,  55,  56,  68,  70,  85,  92, 104, 110, 115, 125,\n",
       "         141, 145]))]"
      ]
     },
     "execution_count": 156,
     "metadata": {},
     "output_type": "execute_result"
    }
   ],
   "source": [
    "list(kf2.split(X,y))"
   ]
  },
  {
   "cell_type": "code",
   "execution_count": 161,
   "metadata": {},
   "outputs": [
    {
     "name": "stdout",
     "output_type": "stream",
     "text": [
      "Average train MSE 0.04619692238144217\n",
      "Average test MSE 0.05003916417775524\n"
     ]
    }
   ],
   "source": [
    "train_mse_values2 = []\n",
    "test_mse_values2= []\n",
    "\n",
    "\n",
    "for train_indices, test_indices in kf2.split(X, y):\n",
    "    lr = LinearRegression()\n",
    "    X_train = X.iloc[train_indices, :]\n",
    "    y_train = y.iloc[train_indices]\n",
    "    X_test = X.iloc[test_indices, :]\n",
    "    y_test = y.iloc[test_indices]\n",
    "    \n",
    "    lr.fit(X_train, y_train)\n",
    "    y_pred_train = lr.predict(X_train)\n",
    "    y_pred_test = lr.predict(X_test)\n",
    "    \n",
    "    train_mse = metrics.mean_squared_error(y_train, y_pred_train)\n",
    "    test_mse = metrics.mean_squared_error(y_test, y_pred_test)\n",
    "    \n",
    "    train_mse_values2.append(train_mse)\n",
    "    test_mse_values2.append(test_mse)\n",
    "    \n",
    "print('Average train MSE', sum(train_mse_values2)/10)\n",
    "print('Average test MSE', sum(test_mse_values2)/10)"
   ]
  },
  {
   "cell_type": "markdown",
   "metadata": {},
   "source": [
    "- How well did your model perform on the training set compared to the null model? What does this result tell you about the bias and/or variance of your model?"
   ]
  },
  {
   "cell_type": "markdown",
   "metadata": {},
   "source": [
    "the training set performed better than the null 0.046 vs. 0.33"
   ]
  },
  {
   "cell_type": "markdown",
   "metadata": {},
   "source": [
    "- How well did your model perform on the test set compared to how well it performed on the training set? What does this result tell you about the bias and/or variance of your model?"
   ]
  },
  {
   "cell_type": "markdown",
   "metadata": {},
   "source": [
    "the average performance on the "
   ]
  },
  {
   "cell_type": "markdown",
   "metadata": {},
   "source": [
    "- Does your model appear to have more of a bias problem or more of a variance problem? Why?"
   ]
  },
  {
   "cell_type": "markdown",
   "metadata": {},
   "source": [
    "Based on the closeness in performance between the training and test sets it would seem that the model is generalizing well and based on the relatively small MSE it seems that the model is complex enough to provide very accurate predictions."
   ]
  },
  {
   "cell_type": "markdown",
   "metadata": {},
   "source": [
    "- Adjust $k$ to address this problem, and get the resulting test-set accuracy using ten-fold cross validation. Did your model get better or worse? By how much?"
   ]
  },
  {
   "cell_type": "code",
   "execution_count": 163,
   "metadata": {},
   "outputs": [
    {
     "data": {
      "text/plain": [
       "1.0"
      ]
     },
     "execution_count": 163,
     "metadata": {},
     "output_type": "execute_result"
    }
   ],
   "source": [
    "knn_100 = KNeighborsClassifier(n_neighbors=75)\n",
    "knn.fit(X_train, y_train)\n",
    "y_pred_class = knn.predict(X_test)\n",
    "metrics.accuracy_score(y_test, y_pred_class)"
   ]
  },
  {
   "cell_type": "markdown",
   "metadata": {},
   "source": [
    "- Naturally with a perfect accuracy score I'm hoping I didn't code something incorrectly, but I'll run the kfold cross validation anyway as per the exercise instructions"
   ]
  },
  {
   "cell_type": "code",
   "execution_count": 165,
   "metadata": {},
   "outputs": [
    {
     "data": {
      "text/plain": [
       "[(array([  0,   1,   2,   3,   4,   5,   6,   7,   8,  10,  11,  12,  13,\n",
       "          14,  15,  16,  17,  18,  19,  20,  21,  22,  23,  24,  25,  26,\n",
       "          27,  28,  29,  30,  31,  32,  33,  34,  35,  36,  38,  39,  40,\n",
       "          41,  42,  43,  44,  45,  47,  48,  49,  50,  51,  52,  53,  54,\n",
       "          55,  56,  58,  60,  61,  62,  63,  64,  65,  67,  68,  69,  72,\n",
       "          73,  74,  75,  76,  77,  78,  80,  81,  82,  83,  84,  85,  86,\n",
       "          87,  88,  89,  90,  91,  92,  93,  94,  95,  96,  97,  98,  99,\n",
       "         100, 101, 102, 103, 104, 105, 106, 108, 109, 110, 112, 113, 114,\n",
       "         116, 118, 119, 120, 121, 122, 123, 124, 125, 126, 127, 128, 129,\n",
       "         130, 131, 132, 133, 134, 135, 136, 137, 139, 140, 141, 142, 143,\n",
       "         144, 145, 146, 148, 149]),\n",
       "  array([  9,  37,  46,  57,  59,  66,  70,  71,  79, 107, 111, 115, 117,\n",
       "         138, 147])),\n",
       " (array([  2,   3,   4,   5,   6,   7,   8,   9,  10,  11,  12,  13,  14,\n",
       "          15,  16,  17,  18,  19,  20,  21,  23,  25,  26,  27,  28,  29,\n",
       "          30,  32,  33,  34,  35,  36,  37,  39,  40,  41,  42,  43,  44,\n",
       "          45,  46,  47,  49,  50,  52,  53,  54,  56,  57,  58,  59,  60,\n",
       "          61,  62,  63,  64,  65,  66,  67,  68,  69,  70,  71,  72,  73,\n",
       "          74,  75,  76,  77,  78,  79,  80,  81,  82,  83,  84,  85,  86,\n",
       "          87,  88,  89,  90,  91,  93,  94,  95,  96,  97,  98,  99, 100,\n",
       "         101, 102, 104, 106, 107, 108, 110, 111, 112, 113, 114, 115, 116,\n",
       "         117, 118, 119, 120, 121, 122, 123, 124, 125, 126, 127, 128, 130,\n",
       "         131, 132, 133, 134, 136, 137, 138, 139, 140, 141, 142, 143, 144,\n",
       "         145, 146, 147, 148, 149]),\n",
       "  array([  0,   1,  22,  24,  31,  38,  48,  51,  55,  92, 103, 105, 109,\n",
       "         129, 135])),\n",
       " (array([  0,   1,   2,   3,   4,   5,   7,   8,   9,  11,  12,  13,  14,\n",
       "          15,  17,  18,  19,  20,  21,  22,  23,  24,  25,  26,  27,  28,\n",
       "          29,  30,  31,  32,  33,  34,  35,  37,  38,  39,  40,  41,  42,\n",
       "          43,  46,  47,  48,  49,  50,  51,  52,  53,  54,  55,  56,  57,\n",
       "          58,  59,  60,  61,  62,  63,  64,  65,  66,  67,  68,  70,  71,\n",
       "          72,  73,  74,  76,  77,  78,  79,  80,  82,  83,  84,  85,  88,\n",
       "          89,  90,  91,  92,  93,  94,  95,  96,  97,  98,  99, 100, 101,\n",
       "         102, 103, 105, 106, 107, 108, 109, 110, 111, 112, 113, 115, 116,\n",
       "         117, 118, 119, 120, 121, 122, 123, 124, 126, 127, 128, 129, 130,\n",
       "         131, 132, 133, 134, 135, 136, 137, 138, 139, 140, 141, 142, 143,\n",
       "         144, 145, 146, 147, 149]),\n",
       "  array([  6,  10,  16,  36,  44,  45,  69,  75,  81,  86,  87, 104, 114,\n",
       "         125, 148])),\n",
       " (array([  0,   1,   2,   3,   4,   5,   6,   7,   8,   9,  10,  11,  12,\n",
       "          13,  14,  15,  16,  17,  18,  19,  20,  21,  22,  23,  24,  25,\n",
       "          26,  27,  28,  29,  30,  31,  34,  36,  37,  38,  39,  40,  42,\n",
       "          43,  44,  45,  46,  47,  48,  49,  51,  52,  55,  56,  57,  58,\n",
       "          59,  60,  61,  62,  63,  64,  65,  66,  67,  68,  69,  70,  71,\n",
       "          72,  73,  74,  75,  77,  78,  79,  80,  81,  82,  83,  84,  86,\n",
       "          87,  88,  89,  90,  91,  92,  93,  96,  97,  98,  99, 100, 101,\n",
       "         102, 103, 104, 105, 106, 107, 108, 109, 110, 111, 112, 113, 114,\n",
       "         115, 116, 117, 118, 119, 120, 121, 122, 123, 124, 125, 126, 127,\n",
       "         128, 129, 130, 131, 133, 134, 135, 138, 140, 141, 142, 143, 144,\n",
       "         145, 146, 147, 148, 149]),\n",
       "  array([ 32,  33,  35,  41,  50,  53,  54,  76,  85,  94,  95, 132, 136,\n",
       "         137, 139])),\n",
       " (array([  0,   1,   2,   3,   4,   5,   6,   8,   9,  10,  11,  12,  13,\n",
       "          14,  15,  16,  17,  18,  19,  20,  21,  22,  23,  24,  25,  26,\n",
       "          28,  29,  30,  31,  32,  33,  34,  35,  36,  37,  38,  39,  40,\n",
       "          41,  43,  44,  45,  46,  47,  48,  49,  50,  51,  52,  53,  54,\n",
       "          55,  56,  57,  58,  59,  60,  61,  62,  63,  64,  65,  66,  68,\n",
       "          69,  70,  71,  72,  73,  75,  76,  78,  79,  80,  81,  82,  83,\n",
       "          85,  86,  87,  88,  89,  90,  91,  92,  93,  94,  95,  96,  97,\n",
       "          98, 100, 101, 102, 103, 104, 105, 106, 107, 108, 109, 110, 111,\n",
       "         114, 115, 116, 117, 119, 122, 123, 125, 126, 127, 128, 129, 130,\n",
       "         131, 132, 133, 134, 135, 136, 137, 138, 139, 140, 141, 143, 144,\n",
       "         145, 146, 147, 148, 149]),\n",
       "  array([  7,  27,  42,  67,  74,  77,  84,  99, 112, 113, 118, 120, 121,\n",
       "         124, 142])),\n",
       " (array([  0,   1,   2,   3,   4,   5,   6,   7,   8,   9,  10,  12,  13,\n",
       "          16,  17,  18,  19,  20,  21,  22,  23,  24,  25,  26,  27,  28,\n",
       "          31,  32,  33,  35,  36,  37,  38,  39,  41,  42,  43,  44,  45,\n",
       "          46,  47,  48,  49,  50,  51,  52,  53,  54,  55,  56,  57,  58,\n",
       "          59,  60,  61,  62,  63,  64,  65,  66,  67,  68,  69,  70,  71,\n",
       "          72,  73,  74,  75,  76,  77,  78,  79,  81,  83,  84,  85,  86,\n",
       "          87,  88,  89,  90,  91,  92,  93,  94,  95,  96,  97,  98,  99,\n",
       "         100, 102, 103, 104, 105, 106, 107, 108, 109, 110, 111, 112, 113,\n",
       "         114, 115, 116, 117, 118, 119, 120, 121, 123, 124, 125, 126, 127,\n",
       "         128, 129, 130, 132, 133, 134, 135, 136, 137, 138, 139, 140, 141,\n",
       "         142, 146, 147, 148, 149]),\n",
       "  array([ 11,  14,  15,  29,  30,  34,  40,  80,  82, 101, 122, 131, 143,\n",
       "         144, 145])),\n",
       " (array([  0,   1,   3,   4,   5,   6,   7,   8,   9,  10,  11,  12,  13,\n",
       "          14,  15,  16,  17,  18,  19,  21,  22,  23,  24,  25,  27,  28,\n",
       "          29,  30,  31,  32,  33,  34,  35,  36,  37,  38,  40,  41,  42,\n",
       "          43,  44,  45,  46,  47,  48,  50,  51,  52,  53,  54,  55,  56,\n",
       "          57,  59,  60,  61,  62,  63,  64,  65,  66,  67,  68,  69,  70,\n",
       "          71,  72,  73,  74,  75,  76,  77,  78,  79,  80,  81,  82,  83,\n",
       "          84,  85,  86,  87,  88,  89,  90,  92,  93,  94,  95,  96,  97,\n",
       "          99, 100, 101, 102, 103, 104, 105, 106, 107, 108, 109, 110, 111,\n",
       "         112, 113, 114, 115, 116, 117, 118, 120, 121, 122, 124, 125, 127,\n",
       "         129, 130, 131, 132, 135, 136, 137, 138, 139, 140, 141, 142, 143,\n",
       "         144, 145, 146, 147, 148]),\n",
       "  array([  2,  20,  26,  39,  49,  58,  91,  98, 119, 123, 126, 128, 133,\n",
       "         134, 149])),\n",
       " (array([  0,   1,   2,   3,   4,   5,   6,   7,   8,   9,  10,  11,  14,\n",
       "          15,  16,  17,  19,  20,  22,  24,  25,  26,  27,  29,  30,  31,\n",
       "          32,  33,  34,  35,  36,  37,  38,  39,  40,  41,  42,  43,  44,\n",
       "          45,  46,  47,  48,  49,  50,  51,  52,  53,  54,  55,  56,  57,\n",
       "          58,  59,  63,  64,  66,  67,  69,  70,  71,  72,  74,  75,  76,\n",
       "          77,  79,  80,  81,  82,  83,  84,  85,  86,  87,  88,  89,  91,\n",
       "          92,  94,  95,  96,  97,  98,  99, 100, 101, 102, 103, 104, 105,\n",
       "         106, 107, 108, 109, 110, 111, 112, 113, 114, 115, 116, 117, 118,\n",
       "         119, 120, 121, 122, 123, 124, 125, 126, 127, 128, 129, 130, 131,\n",
       "         132, 133, 134, 135, 136, 137, 138, 139, 140, 141, 142, 143, 144,\n",
       "         145, 146, 147, 148, 149]),\n",
       "  array([12, 13, 18, 21, 23, 28, 60, 61, 62, 65, 68, 73, 78, 90, 93])),\n",
       " (array([  0,   1,   2,   3,   4,   5,   6,   7,   8,   9,  10,  11,  12,\n",
       "          13,  14,  15,  16,  18,  19,  20,  21,  22,  23,  24,  26,  27,\n",
       "          28,  29,  30,  31,  32,  33,  34,  35,  36,  37,  38,  39,  40,\n",
       "          41,  42,  43,  44,  45,  46,  47,  48,  49,  50,  51,  53,  54,\n",
       "          55,  57,  58,  59,  60,  61,  62,  63,  65,  66,  67,  68,  69,\n",
       "          70,  71,  72,  73,  74,  75,  76,  77,  78,  79,  80,  81,  82,\n",
       "          84,  85,  86,  87,  90,  91,  92,  93,  94,  95,  98,  99, 100,\n",
       "         101, 102, 103, 104, 105, 107, 108, 109, 110, 111, 112, 113, 114,\n",
       "         115, 117, 118, 119, 120, 121, 122, 123, 124, 125, 126, 128, 129,\n",
       "         130, 131, 132, 133, 134, 135, 136, 137, 138, 139, 142, 143, 144,\n",
       "         145, 146, 147, 148, 149]),\n",
       "  array([ 17,  25,  52,  56,  64,  83,  88,  89,  96,  97, 106, 116, 127,\n",
       "         140, 141])),\n",
       " (array([  0,   1,   2,   6,   7,   9,  10,  11,  12,  13,  14,  15,  16,\n",
       "          17,  18,  20,  21,  22,  23,  24,  25,  26,  27,  28,  29,  30,\n",
       "          31,  32,  33,  34,  35,  36,  37,  38,  39,  40,  41,  42,  44,\n",
       "          45,  46,  48,  49,  50,  51,  52,  53,  54,  55,  56,  57,  58,\n",
       "          59,  60,  61,  62,  64,  65,  66,  67,  68,  69,  70,  71,  73,\n",
       "          74,  75,  76,  77,  78,  79,  80,  81,  82,  83,  84,  85,  86,\n",
       "          87,  88,  89,  90,  91,  92,  93,  94,  95,  96,  97,  98,  99,\n",
       "         101, 103, 104, 105, 106, 107, 109, 111, 112, 113, 114, 115, 116,\n",
       "         117, 118, 119, 120, 121, 122, 123, 124, 125, 126, 127, 128, 129,\n",
       "         131, 132, 133, 134, 135, 136, 137, 138, 139, 140, 141, 142, 143,\n",
       "         144, 145, 147, 148, 149]),\n",
       "  array([  3,   4,   5,   8,  19,  43,  47,  63,  72, 100, 102, 108, 110,\n",
       "         130, 146]))]"
      ]
     },
     "execution_count": 165,
     "metadata": {},
     "output_type": "execute_result"
    }
   ],
   "source": [
    "from sklearn.model_selection import KFold\n",
    "\n",
    "kf3 = KFold(n_splits=10, shuffle=True)\n",
    "\n",
    "list(kf3.split(X,y))"
   ]
  },
  {
   "cell_type": "code",
   "execution_count": 166,
   "metadata": {},
   "outputs": [
    {
     "name": "stdout",
     "output_type": "stream",
     "text": [
      "Average train MSE 0.0\n",
      "Average test MSE 0.0\n"
     ]
    }
   ],
   "source": [
    "train_mse_values3 = []\n",
    "test_mse_values3= []\n",
    "\n",
    "\n",
    "for train_indices, test_indices in kf3.split(X, y):\n",
    "    lr = LinearRegression()\n",
    "    X_train = X.iloc[train_indices, :]\n",
    "    y_train = y.iloc[train_indices]\n",
    "    X_test = X.iloc[test_indices, :]\n",
    "    y_test = y.iloc[test_indices]\n",
    "    \n",
    "    lr.fit(X_train, y_train)\n",
    "    y_pred_train = lr.predict(X_train)\n",
    "    y_pred_test = lr.predict(X_test)\n",
    "    \n",
    "    train_mse = metrics.mean_squared_error(y_train, y_pred_train)\n",
    "    test_mse = metrics.mean_squared_error(y_test, y_pred_test)\n",
    "    \n",
    "    train_mse_values2.append(train_mse)\n",
    "    test_mse_values2.append(test_mse)\n",
    "    \n",
    "print('Average train MSE', sum(train_mse_values3)/10)\n",
    "print('Average test MSE', sum(test_mse_values3)/10)"
   ]
  },
  {
   "cell_type": "markdown",
   "metadata": {},
   "source": [
    "- Plot your model's test-set accuracy across a range of $k$ values using ten-fold cross validation. Use a large enough range of $k$ values to provide reasonable assurance that making $k$ larger would not help.\n",
    "\n",
    "Tip: Use functions and loops to avoid writing duplicate code."
   ]
  },
  {
   "cell_type": "code",
   "execution_count": 167,
   "metadata": {},
   "outputs": [],
   "source": [
    "train_scores = []\n",
    "for k in range(1, 100):\n",
    "    knn = KNeighborsClassifier(n_neighbors=k)\n",
    "    knn.fit(X_train, y_train)\n",
    "    pred = knn.predict(X_train)\n",
    "    score = float(sum(pred == y_train)) / len(y_train)\n",
    "    train_scores.append([k, score])"
   ]
  },
  {
   "cell_type": "code",
   "execution_count": 168,
   "metadata": {},
   "outputs": [],
   "source": [
    "scores_df = pd.DataFrame(train_scores, columns=['k', 'train_score'])"
   ]
  },
  {
   "cell_type": "code",
   "execution_count": 169,
   "metadata": {},
   "outputs": [
    {
     "data": {
      "image/png": "[encoded data removed]",
      "text/plain": [
       "<Figure size 432x288 with 1 Axes>"
      ]
     },
     "metadata": {
      "needs_background": "light"
     },
     "output_type": "display_data"
    }
   ],
   "source": [
    "ax = scores_df.plot(x='k', y='train_score')"
   ]
  },
  {
   "cell_type": "markdown",
   "metadata": {},
   "source": [
    "- **Bonus:** Find a *transformation* of one of more of your feature variables that allows you to create a model that performs better on the test set than your previous model. \n",
    "\n",
    "Possible examples:\n",
    "    - Square a column\n",
    "    - Take the square root of a column\n",
    "    - Take the logarithm of a column\n",
    "    - Multiply two columns together"
   ]
  },
  {
   "cell_type": "code",
   "execution_count": null,
   "metadata": {},
   "outputs": [],
   "source": []
  },
  {
   "cell_type": "markdown",
   "metadata": {},
   "source": [
    "## Bonus\n",
    "\n",
    "`scikit-learn` is the most popular machine learning library in Python, but there are alternative packages that have different strengths. "
   ]
  },
  {
   "cell_type": "markdown",
   "metadata": {},
   "source": [
    "### Example: Using the Statsmodels Formula"
   ]
  },
  {
   "cell_type": "code",
   "execution_count": null,
   "metadata": {},
   "outputs": [],
   "source": [
    "# First, format our data in a DataFrame\n",
    "\n",
    "df = pd.DataFrame(boston.data, columns=boston.feature_names)\n",
    "df.loc[:, 'MEDV'] = boston.target\n",
    "df.head()"
   ]
  },
  {
   "cell_type": "code",
   "execution_count": null,
   "metadata": {},
   "outputs": [],
   "source": [
    "# Set up our new statsmodel.formula handling model\n",
    "import statsmodels.formula.api as smf\n",
    "\n",
    "# You can easily swap these out to test multiple versions/different formulas\n",
    "formulas = {\n",
    "    \"case1\": \"MEDV ~ RM + LSTAT + RAD + TAX + NOX + INDUS + CRIM + ZN - 1\", # - 1 = remove intercept\n",
    "    \"case2\": \"MEDV ~ NOX + RM\",\n",
    "    \"case3\": \"MEDV ~ RAD + TAX\"\n",
    "}\n",
    "\n",
    "model = smf.ols(formula=formulas['case1'], data=df)\n",
    "result = model.fit()\n",
    "\n",
    "result.summary()"
   ]
  },
  {
   "cell_type": "markdown",
   "metadata": {},
   "source": [
    "### Bonus Challenge #1:\n",
    "\n",
    "Can you optimize your R2, selecting the best features and using either test-train split or k-folds?"
   ]
  },
  {
   "cell_type": "code",
   "execution_count": null,
   "metadata": {
    "collapsed": true
   },
   "outputs": [],
   "source": []
  },
  {
   "cell_type": "markdown",
   "metadata": {},
   "source": [
    "### Bonus Challenge #2:\n",
    "\n",
    "Given a combination of predictors, can you find another response variable that can be accurately predicted through the exploration of different predictors in this data set?\n",
    "\n",
    "_Tip: Check out pairplots, coefficients, and Pearson scores._"
   ]
  },
  {
   "cell_type": "code",
   "execution_count": null,
   "metadata": {},
   "outputs": [],
   "source": [
    "# Check out variable relations\n",
    "import seaborn as sns\n",
    "\n",
    "sns.pairplot(X);"
   ]
  },
  {
   "cell_type": "code",
   "execution_count": null,
   "metadata": {
    "collapsed": true
   },
   "outputs": [],
   "source": [
    "# Check out Pearson scores\n"
   ]
  },
  {
   "cell_type": "markdown",
   "metadata": {},
   "source": [
    "### Demo: Patsy"
   ]
  },
  {
   "cell_type": "code",
   "execution_count": null,
   "metadata": {
    "collapsed": true
   },
   "outputs": [],
   "source": [
    "import patsy\n",
    "\n",
    "# Add response to the core DataFrame\n",
    "df.loc[:, 'MEDV'] = y"
   ]
  },
  {
   "cell_type": "code",
   "execution_count": null,
   "metadata": {
    "collapsed": true
   },
   "outputs": [],
   "source": [
    "from sklearn.model_selection import train_test_split #If you didn't import it earlier, do so now\n",
    "\n",
    "# Easily change your variable predictors without reslicing your DataFrame\n",
    "y, X = patsy.dmatrices(\"MEDV ~ AGE + RM\", data=df, return_type=\"dataframe\")\n",
    "\n",
    "X_train, X_test, y_train, y_test = train_test_split(X, y, train_size=.7)\n"
   ]
  },
  {
   "cell_type": "code",
   "execution_count": null,
   "metadata": {},
   "outputs": [],
   "source": [
    "from sklearn import metrics\n",
    "from sklearn.linear_model import LinearRegression\n",
    "\n",
    "# Rerun your model, iteratively changing your variables and train_size from the previous cell\n",
    "\n",
    "lm = LinearRegression()\n",
    "model = lm.fit(X_train, y_train)\n",
    "\n",
    "predictions = model.predict(X_test)\n",
    "print(\"R^2 Score: {}\".format(metrics.r2_score(y_test, predictions)))"
   ]
  }
 ],
 "metadata": {
  "anaconda-cloud": {},
  "kernelspec": {
   "display_name": "Python 3",
   "language": "python",
   "name": "python3"
  },
  "language_info": {
   "codemirror_mode": {
    "name": "ipython",
    "version": 3
   },
   "file_extension": ".py",
   "mimetype": "text/x-python",
   "name": "python",
   "nbconvert_exporter": "python",
   "pygments_lexer": "ipython3",
   "version": "3.7.2"
  }
 },
 "nbformat": 4,
 "nbformat_minor": 2
}
